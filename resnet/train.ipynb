{
 "cells": [
  {
   "cell_type": "code",
   "execution_count": 4,
   "metadata": {},
   "outputs": [],
   "source": [
    "import numpy as np\n",
    "import matplotlib.pyplot as plt\n",
    "import tensorflow as tf\n",
    "import keras\n",
    "from sklearn.model_selection import GridSearchCV\n",
    "from tensorflow.keras.datasets import cifar10\n",
    "from resnet_model import *"
   ]
  },
  {
   "cell_type": "markdown",
   "metadata": {},
   "source": [
    "## load cifar10 data"
   ]
  },
  {
   "cell_type": "code",
   "execution_count": 18,
   "metadata": {},
   "outputs": [
    {
     "name": "stdout",
     "output_type": "stream",
     "text": [
      "[[6]\n",
      " [9]\n",
      " [9]\n",
      " ...\n",
      " [9]\n",
      " [1]\n",
      " [1]]\n"
     ]
    }
   ],
   "source": [
    "(X_train, Y_train), (X_test, Y_test) = cifar10.load_data()\n",
    "num_classes = 10\n",
    "input_shape = (32, 32, 3)\n",
    "X_train = X_train.astype('float64')\n",
    "X_test = X_test.astype('float64')\n",
    "X_train /= 255\n",
    "X_test /= 255\n",
    "Y_train = keras.utils.np_utils.to_categorical(Y_train, num_classes)\n",
    "Y_test = keras.utils.np_utils.to_categorical(Y_test, num_classes)\n"
   ]
  },
  {
   "cell_type": "code",
   "execution_count": 22,
   "metadata": {},
   "outputs": [
    {
     "data": {
      "image/png": "[encoded data removed]",
      "text/plain": [
       "<Figure size 432x288 with 1 Axes>"
      ]
     },
     "metadata": {
      "needs_background": "light"
     },
     "output_type": "display_data"
    },
    {
     "name": "stdout",
     "output_type": "stream",
     "text": [
      "[0. 0. 0. 0. 0. 0. 1. 0. 0. 0.]\n"
     ]
    }
   ],
   "source": [
    "plt.imshow(X_train[0])\n",
    "plt.show()\n",
    "print(np.argmax(Y_train[0]))"
   ]
  },
  {
   "cell_type": "code",
   "execution_count": 10,
   "metadata": {},
   "outputs": [
    {
     "name": "stdout",
     "output_type": "stream",
     "text": [
      "Model: \"resnet34\"\n",
      "__________________________________________________________________________________________________\n",
      " Layer (type)                   Output Shape         Param #     Connected to                     \n",
      "==================================================================================================\n",
      " input_3 (InputLayer)           [(None, 32, 32, 3)]  0           []                               \n",
      "                                                                                                  \n",
      " conv1 (Conv2D)                 (None, 32, 32, 64)   9472        ['input_3[0][0]']                \n",
      "                                                                                                  \n",
      " batch_norm1 (BatchNormalizatio  (None, 32, 32, 64)  256         ['conv1[0][0]']                  \n",
      " n)                                                                                               \n",
      "                                                                                                  \n",
      " activation1 (Activation)       (None, 32, 32, 64)   0           ['batch_norm1[0][0]']            \n",
      "                                                                                                  \n",
      " pool1 (MaxPooling2D)           (None, 16, 16, 64)   0           ['activation1[0][0]']            \n",
      "                                                                                                  \n",
      " resblock0_l1 (Conv2D)          (None, 16, 16, 64)   36928       ['pool1[0][0]']                  \n",
      "                                                                                                  \n",
      " batch_normalization_64 (BatchN  (None, 16, 16, 64)  256         ['resblock0_l1[0][0]']           \n",
      " ormalization)                                                                                    \n",
      "                                                                                                  \n",
      " activation0_l1 (Activation)    (None, 16, 16, 64)   0           ['batch_normalization_64[0][0]'] \n",
      "                                                                                                  \n",
      " resblock0_l2 (Conv2D)          (None, 16, 16, 64)   36928       ['activation0_l1[0][0]']         \n",
      "                                                                                                  \n",
      " add_32 (Add)                   (None, 16, 16, 64)   0           ['pool1[0][0]',                  \n",
      "                                                                  'resblock0_l2[0][0]']           \n",
      "                                                                                                  \n",
      " activation_32 (Activation)     (None, 16, 16, 64)   0           ['add_32[0][0]']                 \n",
      "                                                                                                  \n",
      " resblock1_l1 (Conv2D)          (None, 16, 16, 64)   36928       ['activation_32[0][0]']          \n",
      "                                                                                                  \n",
      " batch_normalization_66 (BatchN  (None, 16, 16, 64)  256         ['resblock1_l1[0][0]']           \n",
      " ormalization)                                                                                    \n",
      "                                                                                                  \n",
      " activation1_l1 (Activation)    (None, 16, 16, 64)   0           ['batch_normalization_66[0][0]'] \n",
      "                                                                                                  \n",
      " resblock1_l2 (Conv2D)          (None, 16, 16, 64)   36928       ['activation1_l1[0][0]']         \n",
      "                                                                                                  \n",
      " add_33 (Add)                   (None, 16, 16, 64)   0           ['activation_32[0][0]',          \n",
      "                                                                  'resblock1_l2[0][0]']           \n",
      "                                                                                                  \n",
      " activation_33 (Activation)     (None, 16, 16, 64)   0           ['add_33[0][0]']                 \n",
      "                                                                                                  \n",
      " resblock2_l1 (Conv2D)          (None, 16, 16, 64)   36928       ['activation_33[0][0]']          \n",
      "                                                                                                  \n",
      " batch_normalization_68 (BatchN  (None, 16, 16, 64)  256         ['resblock2_l1[0][0]']           \n",
      " ormalization)                                                                                    \n",
      "                                                                                                  \n",
      " activation2_l1 (Activation)    (None, 16, 16, 64)   0           ['batch_normalization_68[0][0]'] \n",
      "                                                                                                  \n",
      " resblock2_l2 (Conv2D)          (None, 16, 16, 64)   36928       ['activation2_l1[0][0]']         \n",
      "                                                                                                  \n",
      " add_34 (Add)                   (None, 16, 16, 64)   0           ['activation_33[0][0]',          \n",
      "                                                                  'resblock2_l2[0][0]']           \n",
      "                                                                                                  \n",
      " activation_34 (Activation)     (None, 16, 16, 64)   0           ['add_34[0][0]']                 \n",
      "                                                                                                  \n",
      " resblock3_l1 (Conv2D)          (None, 8, 8, 128)    73856       ['activation_34[0][0]']          \n",
      "                                                                                                  \n",
      " batch_normalization_70 (BatchN  (None, 8, 8, 128)   512         ['resblock3_l1[0][0]']           \n",
      " ormalization)                                                                                    \n",
      "                                                                                                  \n",
      " activation3_l1 (Activation)    (None, 8, 8, 128)    0           ['batch_normalization_70[0][0]'] \n",
      "                                                                                                  \n",
      " resblock3_l2 (Conv2D)          (None, 8, 8, 128)    147584      ['activation3_l1[0][0]']         \n",
      "                                                                                                  \n",
      " batch_normalization_71 (BatchN  (None, 8, 8, 128)   512         ['resblock3_l2[0][0]']           \n",
      " ormalization)                                                                                    \n",
      "                                                                                                  \n",
      " resblock3_l3 (Conv2D)          (None, 8, 8, 128)    8320        ['activation_34[0][0]']          \n",
      "                                                                                                  \n",
      " add_35 (Add)                   (None, 8, 8, 128)    0           ['batch_normalization_71[0][0]', \n",
      "                                                                  'resblock3_l3[0][0]']           \n",
      "                                                                                                  \n",
      " activation_35 (Activation)     (None, 8, 8, 128)    0           ['add_35[0][0]']                 \n",
      "                                                                                                  \n",
      " resblock4_l1 (Conv2D)          (None, 8, 8, 128)    147584      ['activation_35[0][0]']          \n",
      "                                                                                                  \n",
      " batch_normalization_72 (BatchN  (None, 8, 8, 128)   512         ['resblock4_l1[0][0]']           \n",
      " ormalization)                                                                                    \n",
      "                                                                                                  \n",
      " activation4_l1 (Activation)    (None, 8, 8, 128)    0           ['batch_normalization_72[0][0]'] \n",
      "                                                                                                  \n",
      " resblock4_l2 (Conv2D)          (None, 8, 8, 128)    147584      ['activation4_l1[0][0]']         \n",
      "                                                                                                  \n",
      " add_36 (Add)                   (None, 8, 8, 128)    0           ['activation_35[0][0]',          \n",
      "                                                                  'resblock4_l2[0][0]']           \n",
      "                                                                                                  \n",
      " activation_36 (Activation)     (None, 8, 8, 128)    0           ['add_36[0][0]']                 \n",
      "                                                                                                  \n",
      " resblock5_l1 (Conv2D)          (None, 8, 8, 128)    147584      ['activation_36[0][0]']          \n",
      "                                                                                                  \n",
      " batch_normalization_74 (BatchN  (None, 8, 8, 128)   512         ['resblock5_l1[0][0]']           \n",
      " ormalization)                                                                                    \n",
      "                                                                                                  \n",
      " activation5_l1 (Activation)    (None, 8, 8, 128)    0           ['batch_normalization_74[0][0]'] \n",
      "                                                                                                  \n",
      " resblock5_l2 (Conv2D)          (None, 8, 8, 128)    147584      ['activation5_l1[0][0]']         \n",
      "                                                                                                  \n",
      " add_37 (Add)                   (None, 8, 8, 128)    0           ['activation_36[0][0]',          \n",
      "                                                                  'resblock5_l2[0][0]']           \n",
      "                                                                                                  \n",
      " activation_37 (Activation)     (None, 8, 8, 128)    0           ['add_37[0][0]']                 \n",
      "                                                                                                  \n",
      " resblock6_l1 (Conv2D)          (None, 8, 8, 128)    147584      ['activation_37[0][0]']          \n",
      "                                                                                                  \n",
      " batch_normalization_76 (BatchN  (None, 8, 8, 128)   512         ['resblock6_l1[0][0]']           \n",
      " ormalization)                                                                                    \n",
      "                                                                                                  \n",
      " activation6_l1 (Activation)    (None, 8, 8, 128)    0           ['batch_normalization_76[0][0]'] \n",
      "                                                                                                  \n",
      " resblock6_l2 (Conv2D)          (None, 8, 8, 128)    147584      ['activation6_l1[0][0]']         \n",
      "                                                                                                  \n",
      " add_38 (Add)                   (None, 8, 8, 128)    0           ['activation_37[0][0]',          \n",
      "                                                                  'resblock6_l2[0][0]']           \n",
      "                                                                                                  \n",
      " activation_38 (Activation)     (None, 8, 8, 128)    0           ['add_38[0][0]']                 \n",
      "                                                                                                  \n",
      " resblock7_l1 (Conv2D)          (None, 4, 4, 256)    295168      ['activation_38[0][0]']          \n",
      "                                                                                                  \n",
      " batch_normalization_78 (BatchN  (None, 4, 4, 256)   1024        ['resblock7_l1[0][0]']           \n",
      " ormalization)                                                                                    \n",
      "                                                                                                  \n",
      " activation7_l1 (Activation)    (None, 4, 4, 256)    0           ['batch_normalization_78[0][0]'] \n",
      "                                                                                                  \n",
      " resblock7_l2 (Conv2D)          (None, 4, 4, 256)    590080      ['activation7_l1[0][0]']         \n",
      "                                                                                                  \n",
      " batch_normalization_79 (BatchN  (None, 4, 4, 256)   1024        ['resblock7_l2[0][0]']           \n",
      " ormalization)                                                                                    \n",
      "                                                                                                  \n",
      " resblock7_l3 (Conv2D)          (None, 4, 4, 256)    33024       ['activation_38[0][0]']          \n",
      "                                                                                                  \n",
      " add_39 (Add)                   (None, 4, 4, 256)    0           ['batch_normalization_79[0][0]', \n",
      "                                                                  'resblock7_l3[0][0]']           \n",
      "                                                                                                  \n",
      " activation_39 (Activation)     (None, 4, 4, 256)    0           ['add_39[0][0]']                 \n",
      "                                                                                                  \n",
      " resblock8_l1 (Conv2D)          (None, 4, 4, 256)    590080      ['activation_39[0][0]']          \n",
      "                                                                                                  \n",
      " batch_normalization_80 (BatchN  (None, 4, 4, 256)   1024        ['resblock8_l1[0][0]']           \n",
      " ormalization)                                                                                    \n",
      "                                                                                                  \n",
      " activation8_l1 (Activation)    (None, 4, 4, 256)    0           ['batch_normalization_80[0][0]'] \n",
      "                                                                                                  \n",
      " resblock8_l2 (Conv2D)          (None, 4, 4, 256)    590080      ['activation8_l1[0][0]']         \n",
      "                                                                                                  \n",
      " add_40 (Add)                   (None, 4, 4, 256)    0           ['activation_39[0][0]',          \n",
      "                                                                  'resblock8_l2[0][0]']           \n",
      "                                                                                                  \n",
      " activation_40 (Activation)     (None, 4, 4, 256)    0           ['add_40[0][0]']                 \n",
      "                                                                                                  \n",
      " resblock9_l1 (Conv2D)          (None, 4, 4, 256)    590080      ['activation_40[0][0]']          \n",
      "                                                                                                  \n",
      " batch_normalization_82 (BatchN  (None, 4, 4, 256)   1024        ['resblock9_l1[0][0]']           \n",
      " ormalization)                                                                                    \n",
      "                                                                                                  \n",
      " activation9_l1 (Activation)    (None, 4, 4, 256)    0           ['batch_normalization_82[0][0]'] \n",
      "                                                                                                  \n",
      " resblock9_l2 (Conv2D)          (None, 4, 4, 256)    590080      ['activation9_l1[0][0]']         \n",
      "                                                                                                  \n",
      " add_41 (Add)                   (None, 4, 4, 256)    0           ['activation_40[0][0]',          \n",
      "                                                                  'resblock9_l2[0][0]']           \n",
      "                                                                                                  \n",
      " activation_41 (Activation)     (None, 4, 4, 256)    0           ['add_41[0][0]']                 \n",
      "                                                                                                  \n",
      " resblock10_l1 (Conv2D)         (None, 4, 4, 256)    590080      ['activation_41[0][0]']          \n",
      "                                                                                                  \n",
      " batch_normalization_84 (BatchN  (None, 4, 4, 256)   1024        ['resblock10_l1[0][0]']          \n",
      " ormalization)                                                                                    \n",
      "                                                                                                  \n",
      " activation10_l1 (Activation)   (None, 4, 4, 256)    0           ['batch_normalization_84[0][0]'] \n",
      "                                                                                                  \n",
      " resblock10_l2 (Conv2D)         (None, 4, 4, 256)    590080      ['activation10_l1[0][0]']        \n",
      "                                                                                                  \n",
      " add_42 (Add)                   (None, 4, 4, 256)    0           ['activation_41[0][0]',          \n",
      "                                                                  'resblock10_l2[0][0]']          \n",
      "                                                                                                  \n",
      " activation_42 (Activation)     (None, 4, 4, 256)    0           ['add_42[0][0]']                 \n",
      "                                                                                                  \n",
      " resblock11_l1 (Conv2D)         (None, 4, 4, 256)    590080      ['activation_42[0][0]']          \n",
      "                                                                                                  \n",
      " batch_normalization_86 (BatchN  (None, 4, 4, 256)   1024        ['resblock11_l1[0][0]']          \n",
      " ormalization)                                                                                    \n",
      "                                                                                                  \n",
      " activation11_l1 (Activation)   (None, 4, 4, 256)    0           ['batch_normalization_86[0][0]'] \n",
      "                                                                                                  \n",
      " resblock11_l2 (Conv2D)         (None, 4, 4, 256)    590080      ['activation11_l1[0][0]']        \n",
      "                                                                                                  \n",
      " add_43 (Add)                   (None, 4, 4, 256)    0           ['activation_42[0][0]',          \n",
      "                                                                  'resblock11_l2[0][0]']          \n",
      "                                                                                                  \n",
      " activation_43 (Activation)     (None, 4, 4, 256)    0           ['add_43[0][0]']                 \n",
      "                                                                                                  \n",
      " resblock12_l1 (Conv2D)         (None, 4, 4, 256)    590080      ['activation_43[0][0]']          \n",
      "                                                                                                  \n",
      " batch_normalization_88 (BatchN  (None, 4, 4, 256)   1024        ['resblock12_l1[0][0]']          \n",
      " ormalization)                                                                                    \n",
      "                                                                                                  \n",
      " activation12_l1 (Activation)   (None, 4, 4, 256)    0           ['batch_normalization_88[0][0]'] \n",
      "                                                                                                  \n",
      " resblock12_l2 (Conv2D)         (None, 4, 4, 256)    590080      ['activation12_l1[0][0]']        \n",
      "                                                                                                  \n",
      " add_44 (Add)                   (None, 4, 4, 256)    0           ['activation_43[0][0]',          \n",
      "                                                                  'resblock12_l2[0][0]']          \n",
      "                                                                                                  \n",
      " activation_44 (Activation)     (None, 4, 4, 256)    0           ['add_44[0][0]']                 \n",
      "                                                                                                  \n",
      " resblock13_l1 (Conv2D)         (None, 2, 2, 512)    1180160     ['activation_44[0][0]']          \n",
      "                                                                                                  \n",
      " batch_normalization_90 (BatchN  (None, 2, 2, 512)   2048        ['resblock13_l1[0][0]']          \n",
      " ormalization)                                                                                    \n",
      "                                                                                                  \n",
      " activation13_l1 (Activation)   (None, 2, 2, 512)    0           ['batch_normalization_90[0][0]'] \n",
      "                                                                                                  \n",
      " resblock13_l2 (Conv2D)         (None, 2, 2, 512)    2359808     ['activation13_l1[0][0]']        \n",
      "                                                                                                  \n",
      " batch_normalization_91 (BatchN  (None, 2, 2, 512)   2048        ['resblock13_l2[0][0]']          \n",
      " ormalization)                                                                                    \n",
      "                                                                                                  \n",
      " resblock13_l3 (Conv2D)         (None, 2, 2, 512)    131584      ['activation_44[0][0]']          \n",
      "                                                                                                  \n",
      " add_45 (Add)                   (None, 2, 2, 512)    0           ['batch_normalization_91[0][0]', \n",
      "                                                                  'resblock13_l3[0][0]']          \n",
      "                                                                                                  \n",
      " activation_45 (Activation)     (None, 2, 2, 512)    0           ['add_45[0][0]']                 \n",
      "                                                                                                  \n",
      " resblock14_l1 (Conv2D)         (None, 2, 2, 512)    2359808     ['activation_45[0][0]']          \n",
      "                                                                                                  \n",
      " batch_normalization_92 (BatchN  (None, 2, 2, 512)   2048        ['resblock14_l1[0][0]']          \n",
      " ormalization)                                                                                    \n",
      "                                                                                                  \n",
      " activation14_l1 (Activation)   (None, 2, 2, 512)    0           ['batch_normalization_92[0][0]'] \n",
      "                                                                                                  \n",
      " resblock14_l2 (Conv2D)         (None, 2, 2, 512)    2359808     ['activation14_l1[0][0]']        \n",
      "                                                                                                  \n",
      " add_46 (Add)                   (None, 2, 2, 512)    0           ['activation_45[0][0]',          \n",
      "                                                                  'resblock14_l2[0][0]']          \n",
      "                                                                                                  \n",
      " activation_46 (Activation)     (None, 2, 2, 512)    0           ['add_46[0][0]']                 \n",
      "                                                                                                  \n",
      " resblock15_l1 (Conv2D)         (None, 2, 2, 512)    2359808     ['activation_46[0][0]']          \n",
      "                                                                                                  \n",
      " batch_normalization_94 (BatchN  (None, 2, 2, 512)   2048        ['resblock15_l1[0][0]']          \n",
      " ormalization)                                                                                    \n",
      "                                                                                                  \n",
      " activation15_l1 (Activation)   (None, 2, 2, 512)    0           ['batch_normalization_94[0][0]'] \n",
      "                                                                                                  \n",
      " resblock15_l2 (Conv2D)         (None, 2, 2, 512)    2359808     ['activation15_l1[0][0]']        \n",
      "                                                                                                  \n",
      " add_47 (Add)                   (None, 2, 2, 512)    0           ['activation_46[0][0]',          \n",
      "                                                                  'resblock15_l2[0][0]']          \n",
      "                                                                                                  \n",
      " activation_47 (Activation)     (None, 2, 2, 512)    0           ['add_47[0][0]']                 \n",
      "                                                                                                  \n",
      " avg_pool (AveragePooling2D)    (None, 1, 1, 512)    0           ['activation_47[0][0]']          \n",
      "                                                                                                  \n",
      " flatten (Flatten)              (None, 512)          0           ['avg_pool[0][0]']               \n",
      "                                                                                                  \n",
      " dense (Dense)                  (None, 2048)         1050624     ['flatten[0][0]']                \n",
      "                                                                                                  \n",
      " output (Dense)                 (None, 10)           20490       ['dense[0][0]']                  \n",
      "                                                                                                  \n",
      "==================================================================================================\n",
      "Total params: 22,366,218\n",
      "Trainable params: 22,356,746\n",
      "Non-trainable params: 9,472\n",
      "__________________________________________________________________________________________________\n"
     ]
    }
   ],
   "source": [
    "model = ResNet34(input_shape=input_shape, num_classes=num_classes)\n",
    "model.summary()"
   ]
  },
  {
   "cell_type": "code",
   "execution_count": 13,
   "metadata": {},
   "outputs": [
    {
     "name": "stdout",
     "output_type": "stream",
     "text": [
      "Epoch 1/20\n"
     ]
    },
    {
     "name": "stderr",
     "output_type": "stream",
     "text": [
      "2022-05-24 13:05:10.858238: I tensorflow/stream_executor/cuda/cuda_dnn.cc:368] Loaded cuDNN version 8400\n",
      "2022-05-24 13:05:12.085057: I tensorflow/stream_executor/cuda/cuda_blas.cc:1786] TensorFloat-32 will be used for the matrix multiplication. This will only be logged once.\n"
     ]
    },
    {
     "name": "stdout",
     "output_type": "stream",
     "text": [
      "313/313 [==============================] - 17s 39ms/step - loss: 1.8583 - accuracy: 0.3133 - val_loss: 1.8445 - val_accuracy: 0.3243\n",
      "Epoch 2/20\n",
      "313/313 [==============================] - 11s 36ms/step - loss: 1.3663 - accuracy: 0.4974 - val_loss: 1.4717 - val_accuracy: 0.4667\n",
      "Epoch 3/20\n",
      "313/313 [==============================] - 11s 37ms/step - loss: 1.1519 - accuracy: 0.5837 - val_loss: 1.8731 - val_accuracy: 0.4049\n",
      "Epoch 4/20\n",
      "313/313 [==============================] - 11s 37ms/step - loss: 0.9892 - accuracy: 0.6446 - val_loss: 1.4699 - val_accuracy: 0.5296\n",
      "Epoch 5/20\n",
      "313/313 [==============================] - 11s 36ms/step - loss: 0.8561 - accuracy: 0.6993 - val_loss: 1.1796 - val_accuracy: 0.6231\n",
      "Epoch 6/20\n",
      "313/313 [==============================] - 12s 37ms/step - loss: 0.7374 - accuracy: 0.7426 - val_loss: 1.7796 - val_accuracy: 0.4784\n",
      "Epoch 7/20\n",
      "313/313 [==============================] - 12s 37ms/step - loss: 0.6598 - accuracy: 0.7676 - val_loss: 0.8691 - val_accuracy: 0.7044\n",
      "Epoch 8/20\n",
      "313/313 [==============================] - 12s 37ms/step - loss: 0.5746 - accuracy: 0.7978 - val_loss: 0.9231 - val_accuracy: 0.6913\n",
      "Epoch 9/20\n",
      "313/313 [==============================] - 12s 37ms/step - loss: 0.5045 - accuracy: 0.8243 - val_loss: 1.2213 - val_accuracy: 0.6422\n",
      "Epoch 10/20\n",
      "313/313 [==============================] - 12s 37ms/step - loss: 0.4334 - accuracy: 0.8490 - val_loss: 0.8649 - val_accuracy: 0.7211\n",
      "Epoch 11/20\n",
      "313/313 [==============================] - 12s 37ms/step - loss: 0.3693 - accuracy: 0.8711 - val_loss: 0.9738 - val_accuracy: 0.7044\n",
      "Epoch 12/20\n",
      "313/313 [==============================] - 12s 38ms/step - loss: 0.3134 - accuracy: 0.8913 - val_loss: 1.4146 - val_accuracy: 0.6332\n",
      "Epoch 13/20\n",
      "313/313 [==============================] - 12s 38ms/step - loss: 0.2651 - accuracy: 0.9083 - val_loss: 0.9450 - val_accuracy: 0.7350\n",
      "Epoch 14/20\n",
      "313/313 [==============================] - 12s 39ms/step - loss: 0.2128 - accuracy: 0.9261 - val_loss: 1.3195 - val_accuracy: 0.6781\n",
      "Epoch 15/20\n",
      "313/313 [==============================] - 12s 37ms/step - loss: 0.1751 - accuracy: 0.9410 - val_loss: 1.1005 - val_accuracy: 0.7107\n",
      "Epoch 16/20\n",
      "313/313 [==============================] - 12s 38ms/step - loss: 0.1510 - accuracy: 0.9483 - val_loss: 1.0535 - val_accuracy: 0.7581\n",
      "Epoch 17/20\n",
      "313/313 [==============================] - 12s 37ms/step - loss: 0.1256 - accuracy: 0.9566 - val_loss: 1.0492 - val_accuracy: 0.7728\n",
      "Epoch 18/20\n",
      "313/313 [==============================] - 12s 38ms/step - loss: 0.1086 - accuracy: 0.9634 - val_loss: 1.4779 - val_accuracy: 0.6993\n",
      "Epoch 19/20\n",
      "313/313 [==============================] - 12s 37ms/step - loss: 0.0835 - accuracy: 0.9720 - val_loss: 1.0801 - val_accuracy: 0.7670\n",
      "Epoch 20/20\n",
      "313/313 [==============================] - 12s 37ms/step - loss: 0.0870 - accuracy: 0.9704 - val_loss: 1.2355 - val_accuracy: 0.7532\n"
     ]
    },
    {
     "data": {
      "text/plain": [
       "<keras.callbacks.History at 0x7fe112a68e10>"
      ]
     },
     "execution_count": 13,
     "metadata": {},
     "output_type": "execute_result"
    }
   ],
   "source": [
    "model.compile(loss='categorical_crossentropy', optimizer='adam', metrics=['accuracy'])\n",
    "model.fit(X_train, Y_train, batch_size=128, epochs=20, verbose=1, validation_split=0.2)"
   ]
  },
  {
   "cell_type": "code",
   "execution_count": 14,
   "metadata": {},
   "outputs": [
    {
     "name": "stdout",
     "output_type": "stream",
     "text": [
      "313/313 [==============================] - 3s 8ms/step - loss: 1.2747 - accuracy: 0.7459\n"
     ]
    },
    {
     "data": {
      "text/plain": [
       "[1.2746652364730835, 0.7458999752998352]"
      ]
     },
     "execution_count": 14,
     "metadata": {},
     "output_type": "execute_result"
    }
   ],
   "source": [
    "model.evaluate(X_test, Y_test, verbose=1)"
   ]
  },
  {
   "cell_type": "code",
   "execution_count": null,
   "metadata": {},
   "outputs": [],
   "source": []
  }
 ],
 "metadata": {
  "interpreter": {
   "hash": "6b5e598761a2ac5bb93299115b047ed6d25e008cb3e4097da7606351e4132c77"
  },
  "kernelspec": {
   "display_name": "Python 3.7.13 ('tf37')",
   "language": "python",
   "name": "python3"
  },
  "language_info": {
   "codemirror_mode": {
    "name": "ipython",
    "version": 3
   },
   "file_extension": ".py",
   "mimetype": "text/x-python",
   "name": "python",
   "nbconvert_exporter": "python",
   "pygments_lexer": "ipython3",
   "version": "3.7.13"
  },
  "orig_nbformat": 4
 },
 "nbformat": 4,
 "nbformat_minor": 2
}
