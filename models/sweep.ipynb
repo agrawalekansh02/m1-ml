{
 "cells": [
  {
   "cell_type": "markdown",
   "metadata": {},
   "source": [
    "# demo sweep with wandb"
   ]
  },
  {
   "cell_type": "code",
   "execution_count": 1,
   "metadata": {},
   "outputs": [],
   "source": [
    "import tensorflow as tf\n",
    "import numpy as np\n",
    "import pandas as pd\n",
    "import matplotlib.pyplot as plt\n",
    "from tqdm import tqdm\n",
    "import os, wandb, time, random\n",
    "from wandb.keras import WandbCallback\n",
    "from resnet34 import ResNet34"
   ]
  },
  {
   "cell_type": "code",
   "execution_count": 2,
   "metadata": {},
   "outputs": [
    {
     "name": "stdout",
     "output_type": "stream",
     "text": [
      "(32, 32, 3)\n"
     ]
    }
   ],
   "source": [
    "# load data\n",
    "from tensorflow.keras.datasets import cifar10\n",
    "import keras\n",
    "\n",
    "(X_train, Y_train), (X_test, Y_test) = cifar10.load_data()\n",
    "num_classes = 10\n",
    "input_shape = X_train[0].shape\n",
    "print(input_shape)\n",
    "X_train = X_train.astype('float32')\n",
    "X_test = X_test.astype('float32')\n",
    "X_train /= 255\n",
    "X_test /= 255\n",
    "Y_train = keras.utils.np_utils.to_categorical(Y_train, num_classes)\n",
    "Y_test = keras.utils.np_utils.to_categorical(Y_test, num_classes)"
   ]
  },
  {
   "cell_type": "code",
   "execution_count": 3,
   "metadata": {},
   "outputs": [
    {
     "name": "stderr",
     "output_type": "stream",
     "text": [
      "Failed to detect the name of this notebook, you can set it manually with the WANDB_NOTEBOOK_NAME environment variable to enable code saving.\n"
     ]
    },
    {
     "name": "stdout",
     "output_type": "stream",
     "text": [
      "Create sweep with ID: u67y5b6w\n",
      "Sweep URL: https://wandb.ai/h3x4g0n/cifar-10-grid/sweeps/u67y5b6w\n"
     ]
    }
   ],
   "source": [
    "# sweep config\n",
    "# use WANDB_MODE=offline\n",
    "sweep_config = {\n",
    "  \"name\" : \"initial_sweep\",\n",
    "  \"method\" : \"random\",\n",
    "  \"parameters\" : {\n",
    "    \"epochs\" : {\n",
    "      \"values\" : [10, 20]\n",
    "    },\n",
    "    \"learning_rate\" :{\n",
    "      \"min\": 0.0001,\n",
    "      \"max\": 0.1\n",
    "    },\n",
    "    \"optimizer\" : {\n",
    "        \"values\" : [\"adam\", \"sgd\", \"nadam\"]\n",
    "    },\n",
    "    \"batch_size\" : {\n",
    "        \"values\" : [256]\n",
    "    }, \n",
    "    \"latent\" : {\n",
    "        \"values\" : [256, 512, 1024, 2048]\n",
    "    }, \n",
    "    \"activation\" : {\n",
    "        \"values\" : [\"relu\", \"elu\", \"selu\", \"swish\", \"softmax\"]\n",
    "    }\n",
    "  }, \n",
    "  \"early_terminate\" : {\n",
    "    \"type\" : \"hyperband\",\n",
    "    \"s\" : 2,\n",
    "    \"eta\" : 3,\n",
    "    \"max_iter\" : 27\n",
    "  }\n",
    "}\n",
    "\n",
    "sweep_id = wandb.sweep(sweep=sweep_config, project=\"cifar-10-grid\")"
   ]
  },
  {
   "cell_type": "code",
   "execution_count": 4,
   "metadata": {},
   "outputs": [],
   "source": [
    "# train function\n",
    "def train():\n",
    "    wandb.init(project=\"cifar-10-grid\")\n",
    "    config = wandb.config\n",
    "\n",
    "    model = ResNet34(latent=config[\"latent\"], n_classes=num_classes, activation=config[\"activation\"])\n",
    "    model.build(input_shape=(1, *X_train[0].shape))\n",
    "    model.compile(optimizer=config[\"optimizer\"], \n",
    "                loss=\"categorical_crossentropy\", metrics=['accuracy'])\n",
    "\n",
    "    model.fit(X_train, Y_train,\n",
    "            epochs=config[\"epochs\"], \n",
    "            batch_size=config[\"batch_size\"],\n",
    "            validation_data=(X_test, Y_test),\n",
    "            callbacks=[WandbCallback()])"
   ]
  },
  {
   "cell_type": "code",
   "execution_count": 5,
   "metadata": {},
   "outputs": [
    {
     "name": "stderr",
     "output_type": "stream",
     "text": [
      "\u001b[34m\u001b[1mwandb\u001b[0m: Agent Starting Run: nhzxv1cf with config:\n",
      "\u001b[34m\u001b[1mwandb\u001b[0m: \tactivation: selu\n",
      "\u001b[34m\u001b[1mwandb\u001b[0m: \tbatch_size: 256\n",
      "\u001b[34m\u001b[1mwandb\u001b[0m: \tepochs: 50\n",
      "\u001b[34m\u001b[1mwandb\u001b[0m: \tlatent: 1024\n",
      "\u001b[34m\u001b[1mwandb\u001b[0m: \tlearning_rate: 0.07606747225097366\n",
      "\u001b[34m\u001b[1mwandb\u001b[0m: \toptimizer: nadam\n",
      "Failed to detect the name of this notebook, you can set it manually with the WANDB_NOTEBOOK_NAME environment variable to enable code saving.\n",
      "\u001b[34m\u001b[1mwandb\u001b[0m: Currently logged in as: \u001b[33mh3x4g0n\u001b[0m. Use \u001b[1m`wandb login --relogin`\u001b[0m to force relogin\n",
      "\u001b[34m\u001b[1mwandb\u001b[0m: \u001b[33mWARNING\u001b[0m Ignored wandb.init() arg project when running a sweep.\n",
      "/home/hexagon/miniconda3/envs/tf37/lib/python3.7/site-packages/IPython/html.py:14: ShimWarning: The `IPython.html` package has been deprecated since IPython 4.0. You should import from `notebook` instead. `IPython.html.widgets` has moved to `ipywidgets`.\n",
      "  \"`IPython.html.widgets` has moved to `ipywidgets`.\", ShimWarning)\n"
     ]
    },
    {
     "data": {
      "text/html": [
       "wandb version 0.12.18 is available!  To upgrade, please run:\n",
       " $ pip install wandb --upgrade"
      ],
      "text/plain": [
       "<IPython.core.display.HTML object>"
      ]
     },
     "metadata": {},
     "output_type": "display_data"
    },
    {
     "data": {
      "text/html": [
       "Tracking run with wandb version 0.12.17"
      ],
      "text/plain": [
       "<IPython.core.display.HTML object>"
      ]
     },
     "metadata": {},
     "output_type": "display_data"
    },
    {
     "data": {
      "text/html": [
       "Run data is saved locally in <code>/home/hexagon/Code/m1-ml/models/wandb/run-20220617_232459-nhzxv1cf</code>"
      ],
      "text/plain": [
       "<IPython.core.display.HTML object>"
      ]
     },
     "metadata": {},
     "output_type": "display_data"
    },
    {
     "data": {
      "text/html": [
       "Syncing run <strong><a href=\"https://wandb.ai/h3x4g0n/cifar-10-grid/runs/nhzxv1cf\" target=\"_blank\">faithful-sweep-1</a></strong> to <a href=\"https://wandb.ai/h3x4g0n/cifar-10-grid\" target=\"_blank\">Weights & Biases</a> (<a href=\"https://wandb.me/run\" target=\"_blank\">docs</a>)<br/>Sweep page:  <a href=\"https://wandb.ai/h3x4g0n/cifar-10-grid/sweeps/u67y5b6w\" target=\"_blank\">https://wandb.ai/h3x4g0n/cifar-10-grid/sweeps/u67y5b6w</a>"
      ],
      "text/plain": [
       "<IPython.core.display.HTML object>"
      ]
     },
     "metadata": {},
     "output_type": "display_data"
    },
    {
     "name": "stderr",
     "output_type": "stream",
     "text": [
      "2022-06-17 23:25:05.188310: I tensorflow/stream_executor/cuda/cuda_gpu_executor.cc:936] successful NUMA node read from SysFS had negative value (-1), but there must be at least one NUMA node, so returning NUMA node zero\n",
      "2022-06-17 23:25:05.215748: I tensorflow/stream_executor/cuda/cuda_gpu_executor.cc:936] successful NUMA node read from SysFS had negative value (-1), but there must be at least one NUMA node, so returning NUMA node zero\n",
      "2022-06-17 23:25:05.215899: I tensorflow/stream_executor/cuda/cuda_gpu_executor.cc:936] successful NUMA node read from SysFS had negative value (-1), but there must be at least one NUMA node, so returning NUMA node zero\n",
      "2022-06-17 23:25:05.216372: I tensorflow/core/platform/cpu_feature_guard.cc:151] This TensorFlow binary is optimized with oneAPI Deep Neural Network Library (oneDNN) to use the following CPU instructions in performance-critical operations:  AVX2 FMA\n",
      "To enable them in other operations, rebuild TensorFlow with the appropriate compiler flags.\n",
      "2022-06-17 23:25:05.217145: I tensorflow/stream_executor/cuda/cuda_gpu_executor.cc:936] successful NUMA node read from SysFS had negative value (-1), but there must be at least one NUMA node, so returning NUMA node zero\n",
      "2022-06-17 23:25:05.217267: I tensorflow/stream_executor/cuda/cuda_gpu_executor.cc:936] successful NUMA node read from SysFS had negative value (-1), but there must be at least one NUMA node, so returning NUMA node zero\n",
      "2022-06-17 23:25:05.217372: I tensorflow/stream_executor/cuda/cuda_gpu_executor.cc:936] successful NUMA node read from SysFS had negative value (-1), but there must be at least one NUMA node, so returning NUMA node zero\n",
      "2022-06-17 23:25:05.508843: I tensorflow/stream_executor/cuda/cuda_gpu_executor.cc:936] successful NUMA node read from SysFS had negative value (-1), but there must be at least one NUMA node, so returning NUMA node zero\n",
      "2022-06-17 23:25:05.508985: I tensorflow/stream_executor/cuda/cuda_gpu_executor.cc:936] successful NUMA node read from SysFS had negative value (-1), but there must be at least one NUMA node, so returning NUMA node zero\n",
      "2022-06-17 23:25:05.509093: I tensorflow/stream_executor/cuda/cuda_gpu_executor.cc:936] successful NUMA node read from SysFS had negative value (-1), but there must be at least one NUMA node, so returning NUMA node zero\n",
      "2022-06-17 23:25:05.509194: I tensorflow/core/common_runtime/gpu/gpu_device.cc:1525] Created device /job:localhost/replica:0/task:0/device:GPU:0 with 5636 MB memory:  -> device: 0, name: NVIDIA GeForce RTX 3070 Ti, pci bus id: 0000:09:00.0, compute capability: 8.6\n",
      "\u001b[34m\u001b[1mwandb\u001b[0m: \u001b[33mWARNING\u001b[0m The save_model argument by default saves the model in the HDF5 format that cannot save custom objects like subclassed models and custom layers. This behavior will be deprecated in a future release in favor of the SavedModel format. Meanwhile, the HDF5 model is saved as W&B files and the SavedModel as W&B Artifacts.\n"
     ]
    },
    {
     "name": "stdout",
     "output_type": "stream",
     "text": [
      "Epoch 1/50\n"
     ]
    },
    {
     "name": "stderr",
     "output_type": "stream",
     "text": [
      "2022-06-17 23:25:13.805510: I tensorflow/stream_executor/cuda/cuda_dnn.cc:368] Loaded cuDNN version 8400\n",
      "2022-06-17 23:25:14.812507: I tensorflow/stream_executor/cuda/cuda_blas.cc:1786] TensorFloat-32 will be used for the matrix multiplication. This will only be logged once.\n"
     ]
    },
    {
     "name": "stdout",
     "output_type": "stream",
     "text": [
      "196/196 [==============================] - ETA: 0s - loss: 3.4541 - accuracy: 0.1884"
     ]
    },
    {
     "name": "stderr",
     "output_type": "stream",
     "text": [
      "\u001b[34m\u001b[1mwandb\u001b[0m: \u001b[32m\u001b[41mERROR\u001b[0m Can't save model in the h5py format. The model will be saved as W&B Artifacts in the SavedModel format.\n",
      "2022-06-17 23:25:27.434472: W tensorflow/python/util/util.cc:368] Sets are not currently considered sequences, but this may change in the future, so consider avoiding using them.\n",
      "WARNING:absl:Found untraced functions such as conv_177_layer_call_fn, conv_177_layer_call_and_return_conditional_losses, activation_1_layer_call_fn, activation_1_layer_call_and_return_conditional_losses, conv2d_1_layer_call_fn while saving (showing 5 of 134). These functions will not be directly callable after loading.\n"
     ]
    },
    {
     "name": "stdout",
     "output_type": "stream",
     "text": [
      "INFO:tensorflow:Assets written to: /home/hexagon/Code/m1-ml/models/wandb/run-20220617_232459-nhzxv1cf/files/model-best/assets\n"
     ]
    },
    {
     "name": "stderr",
     "output_type": "stream",
     "text": [
      "INFO:tensorflow:Assets written to: /home/hexagon/Code/m1-ml/models/wandb/run-20220617_232459-nhzxv1cf/files/model-best/assets\n",
      "\u001b[34m\u001b[1mwandb\u001b[0m: Adding directory to artifact (/home/hexagon/Code/m1-ml/models/wandb/run-20220617_232459-nhzxv1cf/files/model-best)... Done. 0.7s\n"
     ]
    },
    {
     "name": "stdout",
     "output_type": "stream",
     "text": [
      "196/196 [==============================] - 26s 89ms/step - loss: 3.4541 - accuracy: 0.1884 - val_loss: 3.9218 - val_accuracy: 0.1783 - _timestamp: 1655533524.0000 - _runtime: 25.0000\n",
      "Epoch 2/50\n",
      "195/196 [============================>.] - ETA: 0s - loss: 3.2943 - accuracy: 0.2333"
     ]
    },
    {
     "name": "stderr",
     "output_type": "stream",
     "text": [
      "WARNING:absl:Found untraced functions such as conv_177_layer_call_fn, conv_177_layer_call_and_return_conditional_losses, activation_1_layer_call_fn, activation_1_layer_call_and_return_conditional_losses, conv2d_1_layer_call_fn while saving (showing 5 of 134). These functions will not be directly callable after loading.\n"
     ]
    },
    {
     "name": "stdout",
     "output_type": "stream",
     "text": [
      "INFO:tensorflow:Assets written to: /home/hexagon/Code/m1-ml/models/wandb/run-20220617_232459-nhzxv1cf/files/model-best/assets\n"
     ]
    },
    {
     "name": "stderr",
     "output_type": "stream",
     "text": [
      "INFO:tensorflow:Assets written to: /home/hexagon/Code/m1-ml/models/wandb/run-20220617_232459-nhzxv1cf/files/model-best/assets\n",
      "\u001b[34m\u001b[1mwandb\u001b[0m: Adding directory to artifact (/home/hexagon/Code/m1-ml/models/wandb/run-20220617_232459-nhzxv1cf/files/model-best)... Done. 0.6s\n"
     ]
    },
    {
     "name": "stdout",
     "output_type": "stream",
     "text": [
      "196/196 [==============================] - 16s 84ms/step - loss: 3.2949 - accuracy: 0.2333 - val_loss: 3.3934 - val_accuracy: 0.2648 - _timestamp: 1655533540.0000 - _runtime: 41.0000\n",
      "Epoch 3/50\n",
      "195/196 [============================>.] - ETA: 0s - loss: 3.3679 - accuracy: 0.1973"
     ]
    },
    {
     "name": "stderr",
     "output_type": "stream",
     "text": [
      "WARNING:absl:Found untraced functions such as conv_177_layer_call_fn, conv_177_layer_call_and_return_conditional_losses, activation_1_layer_call_fn, activation_1_layer_call_and_return_conditional_losses, conv2d_1_layer_call_fn while saving (showing 5 of 134). These functions will not be directly callable after loading.\n"
     ]
    },
    {
     "name": "stdout",
     "output_type": "stream",
     "text": [
      "INFO:tensorflow:Assets written to: /home/hexagon/Code/m1-ml/models/wandb/run-20220617_232459-nhzxv1cf/files/model-best/assets\n"
     ]
    },
    {
     "name": "stderr",
     "output_type": "stream",
     "text": [
      "INFO:tensorflow:Assets written to: /home/hexagon/Code/m1-ml/models/wandb/run-20220617_232459-nhzxv1cf/files/model-best/assets\n",
      "\u001b[34m\u001b[1mwandb\u001b[0m: Adding directory to artifact (/home/hexagon/Code/m1-ml/models/wandb/run-20220617_232459-nhzxv1cf/files/model-best)... Done. 0.6s\n"
     ]
    },
    {
     "name": "stdout",
     "output_type": "stream",
     "text": [
      "196/196 [==============================] - 17s 84ms/step - loss: 3.3690 - accuracy: 0.1973 - val_loss: 3.3227 - val_accuracy: 0.2186 - _timestamp: 1655533557.0000 - _runtime: 58.0000\n",
      "Epoch 4/50\n",
      "196/196 [==============================] - 8s 42ms/step - loss: 3.2463 - accuracy: 0.2678 - val_loss: 3.8513 - val_accuracy: 0.1189 - _timestamp: 1655533573.0000 - _runtime: 74.0000\n",
      "Epoch 5/50\n",
      "196/196 [==============================] - 8s 42ms/step - loss: 3.2747 - accuracy: 0.2397 - val_loss: 3.3553 - val_accuracy: 0.2125 - _timestamp: 1655533581.0000 - _runtime: 82.0000\n",
      "Epoch 6/50\n",
      "196/196 [==============================] - 8s 43ms/step - loss: 3.2931 - accuracy: 0.2357 - val_loss: 3.6983 - val_accuracy: 0.1000 - _timestamp: 1655533590.0000 - _runtime: 91.0000\n",
      "Epoch 7/50\n",
      "196/196 [==============================] - 8s 43ms/step - loss: 3.3970 - accuracy: 0.1804 - val_loss: 3.7303 - val_accuracy: 0.1182 - _timestamp: 1655533598.0000 - _runtime: 99.0000\n",
      "Epoch 8/50\n",
      "195/196 [============================>.] - ETA: 0s - loss: 3.2693 - accuracy: 0.2373"
     ]
    },
    {
     "name": "stderr",
     "output_type": "stream",
     "text": [
      "WARNING:absl:Found untraced functions such as conv_177_layer_call_fn, conv_177_layer_call_and_return_conditional_losses, activation_1_layer_call_fn, activation_1_layer_call_and_return_conditional_losses, conv2d_1_layer_call_fn while saving (showing 5 of 134). These functions will not be directly callable after loading.\n"
     ]
    },
    {
     "name": "stdout",
     "output_type": "stream",
     "text": [
      "INFO:tensorflow:Assets written to: /home/hexagon/Code/m1-ml/models/wandb/run-20220617_232459-nhzxv1cf/files/model-best/assets\n"
     ]
    },
    {
     "name": "stderr",
     "output_type": "stream",
     "text": [
      "INFO:tensorflow:Assets written to: /home/hexagon/Code/m1-ml/models/wandb/run-20220617_232459-nhzxv1cf/files/model-best/assets\n",
      "\u001b[34m\u001b[1mwandb\u001b[0m: Adding directory to artifact (/home/hexagon/Code/m1-ml/models/wandb/run-20220617_232459-nhzxv1cf/files/model-best)... Done. 0.7s\n"
     ]
    },
    {
     "name": "stdout",
     "output_type": "stream",
     "text": [
      "196/196 [==============================] - 17s 85ms/step - loss: 3.2693 - accuracy: 0.2374 - val_loss: 3.1997 - val_accuracy: 0.2717 - _timestamp: 1655533607.0000 - _runtime: 108.0000\n",
      "Epoch 9/50\n",
      "196/196 [==============================] - 8s 43ms/step - loss: 3.4208 - accuracy: 0.1920 - val_loss: 3.4694 - val_accuracy: 0.1665 - _timestamp: 1655533623.0000 - _runtime: 124.0000\n",
      "Epoch 10/50\n",
      "196/196 [==============================] - 8s 43ms/step - loss: 3.4070 - accuracy: 0.1814 - val_loss: 3.6403 - val_accuracy: 0.1000 - _timestamp: 1655533632.0000 - _runtime: 133.0000\n",
      "Epoch 11/50\n",
      "196/196 [==============================] - 8s 43ms/step - loss: 3.3592 - accuracy: 0.2008 - val_loss: 3.3213 - val_accuracy: 0.2157 - _timestamp: 1655533640.0000 - _runtime: 141.0000\n",
      "Epoch 12/50\n",
      "196/196 [==============================] - 9s 44ms/step - loss: 3.2767 - accuracy: 0.2415 - val_loss: 3.4057 - val_accuracy: 0.1736 - _timestamp: 1655533649.0000 - _runtime: 150.0000\n",
      "Epoch 13/50\n",
      "196/196 [==============================] - 8s 43ms/step - loss: 3.2861 - accuracy: 0.2156 - val_loss: 3.2755 - val_accuracy: 0.2231 - _timestamp: 1655533657.0000 - _runtime: 158.0000\n",
      "Epoch 14/50\n",
      "195/196 [============================>.] - ETA: 0s - loss: 3.1777 - accuracy: 0.2713"
     ]
    },
    {
     "name": "stderr",
     "output_type": "stream",
     "text": [
      "WARNING:absl:Found untraced functions such as conv_177_layer_call_fn, conv_177_layer_call_and_return_conditional_losses, activation_1_layer_call_fn, activation_1_layer_call_and_return_conditional_losses, conv2d_1_layer_call_fn while saving (showing 5 of 134). These functions will not be directly callable after loading.\n"
     ]
    },
    {
     "name": "stdout",
     "output_type": "stream",
     "text": [
      "INFO:tensorflow:Assets written to: /home/hexagon/Code/m1-ml/models/wandb/run-20220617_232459-nhzxv1cf/files/model-best/assets\n"
     ]
    },
    {
     "name": "stderr",
     "output_type": "stream",
     "text": [
      "INFO:tensorflow:Assets written to: /home/hexagon/Code/m1-ml/models/wandb/run-20220617_232459-nhzxv1cf/files/model-best/assets\n",
      "\u001b[34m\u001b[1mwandb\u001b[0m: Adding directory to artifact (/home/hexagon/Code/m1-ml/models/wandb/run-20220617_232459-nhzxv1cf/files/model-best)... Done. 0.7s\n"
     ]
    },
    {
     "name": "stdout",
     "output_type": "stream",
     "text": [
      "196/196 [==============================] - 17s 87ms/step - loss: 3.1791 - accuracy: 0.2712 - val_loss: 3.1535 - val_accuracy: 0.2973 - _timestamp: 1655533666.0000 - _runtime: 167.0000\n",
      "Epoch 15/50\n",
      "196/196 [==============================] - 8s 43ms/step - loss: 3.1742 - accuracy: 0.2901 - val_loss: 3.2324 - val_accuracy: 0.2636 - _timestamp: 1655533683.0000 - _runtime: 184.0000\n",
      "Epoch 16/50\n",
      "196/196 [==============================] - 8s 42ms/step - loss: 3.2257 - accuracy: 0.2634 - val_loss: 3.2798 - val_accuracy: 0.2724 - _timestamp: 1655533691.0000 - _runtime: 192.0000\n",
      "Epoch 17/50\n",
      "195/196 [============================>.] - ETA: 0s - loss: 3.1824 - accuracy: 0.2857"
     ]
    },
    {
     "name": "stderr",
     "output_type": "stream",
     "text": [
      "WARNING:absl:Found untraced functions such as conv_177_layer_call_fn, conv_177_layer_call_and_return_conditional_losses, activation_1_layer_call_fn, activation_1_layer_call_and_return_conditional_losses, conv2d_1_layer_call_fn while saving (showing 5 of 134). These functions will not be directly callable after loading.\n"
     ]
    },
    {
     "name": "stdout",
     "output_type": "stream",
     "text": [
      "INFO:tensorflow:Assets written to: /home/hexagon/Code/m1-ml/models/wandb/run-20220617_232459-nhzxv1cf/files/model-best/assets\n"
     ]
    },
    {
     "name": "stderr",
     "output_type": "stream",
     "text": [
      "INFO:tensorflow:Assets written to: /home/hexagon/Code/m1-ml/models/wandb/run-20220617_232459-nhzxv1cf/files/model-best/assets\n",
      "\u001b[34m\u001b[1mwandb\u001b[0m: Adding directory to artifact (/home/hexagon/Code/m1-ml/models/wandb/run-20220617_232459-nhzxv1cf/files/model-best)... Done. 0.7s\n"
     ]
    },
    {
     "name": "stdout",
     "output_type": "stream",
     "text": [
      "196/196 [==============================] - 17s 85ms/step - loss: 3.1815 - accuracy: 0.2857 - val_loss: 3.1519 - val_accuracy: 0.3054 - _timestamp: 1655533699.0000 - _runtime: 200.0000\n",
      "Epoch 18/50\n",
      "196/196 [==============================] - 8s 43ms/step - loss: 3.1072 - accuracy: 0.3063 - val_loss: 4.0430 - val_accuracy: 0.1451 - _timestamp: 1655533716.0000 - _runtime: 217.0000\n",
      "Epoch 19/50\n",
      "195/196 [============================>.] - ETA: 0s - loss: 3.1623 - accuracy: 0.2483"
     ]
    },
    {
     "name": "stderr",
     "output_type": "stream",
     "text": [
      "WARNING:absl:Found untraced functions such as conv_177_layer_call_fn, conv_177_layer_call_and_return_conditional_losses, activation_1_layer_call_fn, activation_1_layer_call_and_return_conditional_losses, conv2d_1_layer_call_fn while saving (showing 5 of 134). These functions will not be directly callable after loading.\n"
     ]
    },
    {
     "name": "stdout",
     "output_type": "stream",
     "text": [
      "INFO:tensorflow:Assets written to: /home/hexagon/Code/m1-ml/models/wandb/run-20220617_232459-nhzxv1cf/files/model-best/assets\n"
     ]
    },
    {
     "name": "stderr",
     "output_type": "stream",
     "text": [
      "INFO:tensorflow:Assets written to: /home/hexagon/Code/m1-ml/models/wandb/run-20220617_232459-nhzxv1cf/files/model-best/assets\n",
      "\u001b[34m\u001b[1mwandb\u001b[0m: Adding directory to artifact (/home/hexagon/Code/m1-ml/models/wandb/run-20220617_232459-nhzxv1cf/files/model-best)... Done. 0.7s\n"
     ]
    },
    {
     "name": "stdout",
     "output_type": "stream",
     "text": [
      "196/196 [==============================] - 17s 88ms/step - loss: 3.1622 - accuracy: 0.2482 - val_loss: 3.0972 - val_accuracy: 0.2663 - _timestamp: 1655533725.0000 - _runtime: 226.0000\n",
      "Epoch 20/50\n",
      "196/196 [==============================] - 8s 43ms/step - loss: 3.1324 - accuracy: 0.2576 - val_loss: 3.3125 - val_accuracy: 0.2299 - _timestamp: 1655533742.0000 - _runtime: 243.0000\n",
      "Epoch 21/50\n",
      "196/196 [==============================] - 8s 43ms/step - loss: 3.3167 - accuracy: 0.2299 - val_loss: 3.6024 - val_accuracy: 0.1293 - _timestamp: 1655533750.0000 - _runtime: 251.0000\n",
      "Epoch 22/50\n",
      "196/196 [==============================] - 8s 43ms/step - loss: 3.2045 - accuracy: 0.2702 - val_loss: 3.2258 - val_accuracy: 0.2406 - _timestamp: 1655533758.0000 - _runtime: 259.0000\n",
      "Epoch 23/50\n",
      "196/196 [==============================] - 8s 43ms/step - loss: 3.2094 - accuracy: 0.2613 - val_loss: 3.5155 - val_accuracy: 0.1736 - _timestamp: 1655533767.0000 - _runtime: 268.0000\n",
      "Epoch 24/50\n",
      "196/196 [==============================] - 9s 43ms/step - loss: 3.1452 - accuracy: 0.2854 - val_loss: 3.1142 - val_accuracy: 0.2938 - _timestamp: 1655533775.0000 - _runtime: 276.0000\n",
      "Epoch 25/50\n",
      "196/196 [==============================] - 8s 42ms/step - loss: 3.0555 - accuracy: 0.3258 - val_loss: 3.5041 - val_accuracy: 0.2523 - _timestamp: 1655533784.0000 - _runtime: 285.0000\n",
      "Epoch 26/50\n",
      "196/196 [==============================] - 8s 42ms/step - loss: 3.0565 - accuracy: 0.3233 - val_loss: 3.2336 - val_accuracy: 0.2918 - _timestamp: 1655533792.0000 - _runtime: 293.0000\n",
      "Epoch 27/50\n",
      "195/196 [============================>.] - ETA: 0s - loss: 3.0619 - accuracy: 0.3240"
     ]
    },
    {
     "name": "stderr",
     "output_type": "stream",
     "text": [
      "WARNING:absl:Found untraced functions such as conv_177_layer_call_fn, conv_177_layer_call_and_return_conditional_losses, activation_1_layer_call_fn, activation_1_layer_call_and_return_conditional_losses, conv2d_1_layer_call_fn while saving (showing 5 of 134). These functions will not be directly callable after loading.\n"
     ]
    },
    {
     "name": "stdout",
     "output_type": "stream",
     "text": [
      "INFO:tensorflow:Assets written to: /home/hexagon/Code/m1-ml/models/wandb/run-20220617_232459-nhzxv1cf/files/model-best/assets\n"
     ]
    },
    {
     "name": "stderr",
     "output_type": "stream",
     "text": [
      "INFO:tensorflow:Assets written to: /home/hexagon/Code/m1-ml/models/wandb/run-20220617_232459-nhzxv1cf/files/model-best/assets\n",
      "\u001b[34m\u001b[1mwandb\u001b[0m: Adding directory to artifact (/home/hexagon/Code/m1-ml/models/wandb/run-20220617_232459-nhzxv1cf/files/model-best)... Done. 0.7s\n"
     ]
    },
    {
     "name": "stdout",
     "output_type": "stream",
     "text": [
      "196/196 [==============================] - 17s 85ms/step - loss: 3.0619 - accuracy: 0.3239 - val_loss: 3.0769 - val_accuracy: 0.3183 - _timestamp: 1655533801.0000 - _runtime: 302.0000\n",
      "Epoch 28/50\n",
      "196/196 [==============================] - 8s 43ms/step - loss: 2.9817 - accuracy: 0.3492 - val_loss: 3.6145 - val_accuracy: 0.2242 - _timestamp: 1655533817.0000 - _runtime: 318.0000\n",
      "Epoch 29/50\n",
      "196/196 [==============================] - 8s 42ms/step - loss: 3.1124 - accuracy: 0.3078 - val_loss: 3.3942 - val_accuracy: 0.1996 - _timestamp: 1655533825.0000 - _runtime: 326.0000\n",
      "Epoch 30/50\n",
      "196/196 [==============================] - 8s 43ms/step - loss: 3.0768 - accuracy: 0.3260 - val_loss: 3.2804 - val_accuracy: 0.2556 - _timestamp: 1655533834.0000 - _runtime: 335.0000\n",
      "Epoch 31/50\n",
      "196/196 [==============================] - 8s 43ms/step - loss: 3.0387 - accuracy: 0.3411 - val_loss: 3.4715 - val_accuracy: 0.2128 - _timestamp: 1655533842.0000 - _runtime: 343.0000\n",
      "Epoch 32/50\n",
      "196/196 [==============================] - 8s 43ms/step - loss: 3.0863 - accuracy: 0.3221 - val_loss: 3.2952 - val_accuracy: 0.2467 - _timestamp: 1655533851.0000 - _runtime: 352.0000\n",
      "Epoch 33/50\n",
      "196/196 [==============================] - 8s 43ms/step - loss: 3.1864 - accuracy: 0.2902 - val_loss: 3.6722 - val_accuracy: 0.1338 - _timestamp: 1655533859.0000 - _runtime: 360.0000\n",
      "Epoch 34/50\n",
      "196/196 [==============================] - 8s 43ms/step - loss: 3.2343 - accuracy: 0.2503 - val_loss: 3.1790 - val_accuracy: 0.2712 - _timestamp: 1655533867.0000 - _runtime: 368.0000\n",
      "Epoch 35/50\n",
      "196/196 [==============================] - 9s 44ms/step - loss: 3.1912 - accuracy: 0.2647 - val_loss: 3.3403 - val_accuracy: 0.2044 - _timestamp: 1655533876.0000 - _runtime: 377.0000\n",
      "Epoch 36/50\n",
      "196/196 [==============================] - 9s 44ms/step - loss: 3.1745 - accuracy: 0.2700 - val_loss: 3.1482 - val_accuracy: 0.2845 - _timestamp: 1655533885.0000 - _runtime: 386.0000\n",
      "Epoch 37/50\n",
      "196/196 [==============================] - 8s 43ms/step - loss: 3.1606 - accuracy: 0.2809 - val_loss: 3.3017 - val_accuracy: 0.2738 - _timestamp: 1655533893.0000 - _runtime: 394.0000\n",
      "Epoch 38/50\n",
      "196/196 [==============================] - 8s 43ms/step - loss: 3.1852 - accuracy: 0.2742 - val_loss: 3.5306 - val_accuracy: 0.1408 - _timestamp: 1655533901.0000 - _runtime: 402.0000\n",
      "Epoch 39/50\n",
      "196/196 [==============================] - 8s 43ms/step - loss: 3.2335 - accuracy: 0.2635 - val_loss: 3.1918 - val_accuracy: 0.2800 - _timestamp: 1655533910.0000 - _runtime: 411.0000\n",
      "Epoch 40/50\n",
      "196/196 [==============================] - 8s 43ms/step - loss: 3.1343 - accuracy: 0.2956 - val_loss: 3.0984 - val_accuracy: 0.3221 - _timestamp: 1655533918.0000 - _runtime: 419.0000\n",
      "Epoch 41/50\n",
      "196/196 [==============================] - ETA: 0s - loss: 3.0646 - accuracy: 0.3152"
     ]
    },
    {
     "name": "stderr",
     "output_type": "stream",
     "text": [
      "WARNING:absl:Found untraced functions such as conv_177_layer_call_fn, conv_177_layer_call_and_return_conditional_losses, activation_1_layer_call_fn, activation_1_layer_call_and_return_conditional_losses, conv2d_1_layer_call_fn while saving (showing 5 of 134). These functions will not be directly callable after loading.\n"
     ]
    },
    {
     "name": "stdout",
     "output_type": "stream",
     "text": [
      "INFO:tensorflow:Assets written to: /home/hexagon/Code/m1-ml/models/wandb/run-20220617_232459-nhzxv1cf/files/model-best/assets\n"
     ]
    },
    {
     "name": "stderr",
     "output_type": "stream",
     "text": [
      "INFO:tensorflow:Assets written to: /home/hexagon/Code/m1-ml/models/wandb/run-20220617_232459-nhzxv1cf/files/model-best/assets\n",
      "\u001b[34m\u001b[1mwandb\u001b[0m: Adding directory to artifact (/home/hexagon/Code/m1-ml/models/wandb/run-20220617_232459-nhzxv1cf/files/model-best)... Done. 0.7s\n"
     ]
    },
    {
     "name": "stdout",
     "output_type": "stream",
     "text": [
      "196/196 [==============================] - 17s 85ms/step - loss: 3.0646 - accuracy: 0.3152 - val_loss: 3.0563 - val_accuracy: 0.3186 - _timestamp: 1655533927.0000 - _runtime: 428.0000\n",
      "Epoch 42/50\n",
      "196/196 [==============================] - 8s 42ms/step - loss: 3.0121 - accuracy: 0.3390 - val_loss: 3.2559 - val_accuracy: 0.2819 - _timestamp: 1655533943.0000 - _runtime: 444.0000\n",
      "Epoch 43/50\n",
      "196/196 [==============================] - 8s 43ms/step - loss: 3.0031 - accuracy: 0.3425 - val_loss: 3.1484 - val_accuracy: 0.3182 - _timestamp: 1655533951.0000 - _runtime: 452.0000\n",
      "Epoch 44/50\n",
      "195/196 [============================>.] - ETA: 0s - loss: 2.9372 - accuracy: 0.3641"
     ]
    },
    {
     "name": "stderr",
     "output_type": "stream",
     "text": [
      "WARNING:absl:Found untraced functions such as conv_177_layer_call_fn, conv_177_layer_call_and_return_conditional_losses, activation_1_layer_call_fn, activation_1_layer_call_and_return_conditional_losses, conv2d_1_layer_call_fn while saving (showing 5 of 134). These functions will not be directly callable after loading.\n"
     ]
    },
    {
     "name": "stdout",
     "output_type": "stream",
     "text": [
      "INFO:tensorflow:Assets written to: /home/hexagon/Code/m1-ml/models/wandb/run-20220617_232459-nhzxv1cf/files/model-best/assets\n"
     ]
    },
    {
     "name": "stderr",
     "output_type": "stream",
     "text": [
      "INFO:tensorflow:Assets written to: /home/hexagon/Code/m1-ml/models/wandb/run-20220617_232459-nhzxv1cf/files/model-best/assets\n",
      "\u001b[34m\u001b[1mwandb\u001b[0m: Adding directory to artifact (/home/hexagon/Code/m1-ml/models/wandb/run-20220617_232459-nhzxv1cf/files/model-best)... Done. 0.7s\n"
     ]
    },
    {
     "name": "stdout",
     "output_type": "stream",
     "text": [
      "196/196 [==============================] - 17s 85ms/step - loss: 2.9360 - accuracy: 0.3643 - val_loss: 2.9370 - val_accuracy: 0.3731 - _timestamp: 1655533960.0000 - _runtime: 461.0000\n",
      "Epoch 45/50\n",
      "196/196 [==============================] - 8s 43ms/step - loss: 3.3663 - accuracy: 0.2253 - val_loss: 3.4324 - val_accuracy: 0.1850 - _timestamp: 1655533977.0000 - _runtime: 478.0000\n",
      "Epoch 46/50\n",
      "196/196 [==============================] - 8s 43ms/step - loss: 3.1816 - accuracy: 0.2821 - val_loss: 3.3232 - val_accuracy: 0.2446 - _timestamp: 1655533985.0000 - _runtime: 486.0000\n",
      "Epoch 47/50\n",
      "196/196 [==============================] - 8s 43ms/step - loss: 3.1049 - accuracy: 0.3120 - val_loss: 3.2101 - val_accuracy: 0.2633 - _timestamp: 1655533994.0000 - _runtime: 495.0000\n",
      "Epoch 48/50\n",
      "196/196 [==============================] - 9s 44ms/step - loss: 3.0518 - accuracy: 0.3331 - val_loss: 3.0423 - val_accuracy: 0.3263 - _timestamp: 1655534002.0000 - _runtime: 503.0000\n",
      "Epoch 49/50\n",
      "196/196 [==============================] - 8s 43ms/step - loss: 3.0495 - accuracy: 0.3368 - val_loss: 3.3525 - val_accuracy: 0.2552 - _timestamp: 1655534011.0000 - _runtime: 512.0000\n",
      "Epoch 50/50\n",
      "196/196 [==============================] - 8s 43ms/step - loss: 3.1240 - accuracy: 0.2883 - val_loss: 3.1967 - val_accuracy: 0.2426 - _timestamp: 1655534019.0000 - _runtime: 520.0000\n"
     ]
    },
    {
     "data": {
      "text/html": [
       "Waiting for W&B process to finish... <strong style=\"color:green\">(success).</strong>"
      ],
      "text/plain": [
       "<IPython.core.display.HTML object>"
      ]
     },
     "metadata": {},
     "output_type": "display_data"
    },
    {
     "data": {
      "text/html": [
       "<style>\n",
       "    table.wandb td:nth-child(1) { padding: 0 10px; text-align: left ; width: auto;} td:nth-child(2) {text-align: left ; width: 100%}\n",
       "    .wandb-row { display: flex; flex-direction: row; flex-wrap: wrap; justify-content: flex-start; width: 100% }\n",
       "    .wandb-col { display: flex; flex-direction: column; flex-basis: 100%; flex: 1; padding: 10px; }\n",
       "    </style>\n",
       "<div class=\"wandb-row\"><div class=\"wandb-col\"><h3>Run history:</h3><br/><table class=\"wandb\"><tr><td>accuracy</td><td>▁▃▂▄▃▁▃▁▂▃▂▄▄▅▆▄▃▄▄▅▆▆▇▆▇▆▅▄▄▅▅▄▆▇▇█▅▆▇▅</td></tr><tr><td>epoch</td><td>▁▁▁▁▂▂▂▂▂▃▃▃▃▃▃▄▄▄▄▄▅▅▅▅▅▅▆▆▆▆▆▆▇▇▇▇▇███</td></tr><tr><td>loss</td><td>█▆▇▅▆▇▆█▇▆▆▄▅▄▃▄▆▅▅▄▃▃▂▃▂▃▄▅▄▄▄▅▃▂▂▁▄▃▃▄</td></tr><tr><td>val_accuracy</td><td>▃▅▄▁▁▁▅▃▄▃▄▆▅▆▂▅▂▅▃▆▆▇▄▄▄▅▂▅▆▅▂▆▇▆▇█▅▅▇▅</td></tr><tr><td>val_loss</td><td>▇▄▃▇▆▆▃▄▃▄▃▂▃▂█▂▅▃▅▂▃▂▅▄▄▃▆▃▂▃▅▃▂▃▂▁▃▃▂▃</td></tr></table><br/></div><div class=\"wandb-col\"><h3>Run summary:</h3><br/><table class=\"wandb\"><tr><td>accuracy</td><td>0.2883</td></tr><tr><td>best_epoch</td><td>43</td></tr><tr><td>best_val_loss</td><td>2.93703</td></tr><tr><td>epoch</td><td>49</td></tr><tr><td>loss</td><td>3.12403</td></tr><tr><td>val_accuracy</td><td>0.2426</td></tr><tr><td>val_loss</td><td>3.19665</td></tr></table><br/></div></div>"
      ],
      "text/plain": [
       "<IPython.core.display.HTML object>"
      ]
     },
     "metadata": {},
     "output_type": "display_data"
    },
    {
     "data": {
      "text/html": [
       "Synced <strong style=\"color:#cdcd00\">faithful-sweep-1</strong>: <a href=\"https://wandb.ai/h3x4g0n/cifar-10-grid/runs/nhzxv1cf\" target=\"_blank\">https://wandb.ai/h3x4g0n/cifar-10-grid/runs/nhzxv1cf</a><br/>Synced 6 W&B file(s), 1 media file(s), 31 artifact file(s) and 0 other file(s)"
      ],
      "text/plain": [
       "<IPython.core.display.HTML object>"
      ]
     },
     "metadata": {},
     "output_type": "display_data"
    },
    {
     "data": {
      "text/html": [
       "Find logs at: <code>./wandb/run-20220617_232459-nhzxv1cf/logs</code>"
      ],
      "text/plain": [
       "<IPython.core.display.HTML object>"
      ]
     },
     "metadata": {},
     "output_type": "display_data"
    },
    {
     "name": "stderr",
     "output_type": "stream",
     "text": [
      "\u001b[34m\u001b[1mwandb\u001b[0m: Agent Starting Run: e1rswdnr with config:\n",
      "\u001b[34m\u001b[1mwandb\u001b[0m: \tactivation: relu\n",
      "\u001b[34m\u001b[1mwandb\u001b[0m: \tbatch_size: 256\n",
      "\u001b[34m\u001b[1mwandb\u001b[0m: \tepochs: 20\n",
      "\u001b[34m\u001b[1mwandb\u001b[0m: \tlatent: 1024\n",
      "\u001b[34m\u001b[1mwandb\u001b[0m: \tlearning_rate: 0.024595010449448885\n",
      "\u001b[34m\u001b[1mwandb\u001b[0m: \toptimizer: nadam\n",
      "Failed to detect the name of this notebook, you can set it manually with the WANDB_NOTEBOOK_NAME environment variable to enable code saving.\n",
      "\u001b[34m\u001b[1mwandb\u001b[0m: \u001b[33mWARNING\u001b[0m Ignored wandb.init() arg project when running a sweep.\n"
     ]
    },
    {
     "data": {
      "text/html": [
       "wandb version 0.12.18 is available!  To upgrade, please run:\n",
       " $ pip install wandb --upgrade"
      ],
      "text/plain": [
       "<IPython.core.display.HTML object>"
      ]
     },
     "metadata": {},
     "output_type": "display_data"
    },
    {
     "data": {
      "text/html": [
       "Tracking run with wandb version 0.12.17"
      ],
      "text/plain": [
       "<IPython.core.display.HTML object>"
      ]
     },
     "metadata": {},
     "output_type": "display_data"
    },
    {
     "data": {
      "text/html": [
       "Run data is saved locally in <code>/home/hexagon/Code/m1-ml/models/wandb/run-20220617_234629-e1rswdnr</code>"
      ],
      "text/plain": [
       "<IPython.core.display.HTML object>"
      ]
     },
     "metadata": {},
     "output_type": "display_data"
    },
    {
     "data": {
      "text/html": [
       "Syncing run <strong><a href=\"https://wandb.ai/h3x4g0n/cifar-10-grid/runs/e1rswdnr\" target=\"_blank\">colorful-sweep-2</a></strong> to <a href=\"https://wandb.ai/h3x4g0n/cifar-10-grid\" target=\"_blank\">Weights & Biases</a> (<a href=\"https://wandb.me/run\" target=\"_blank\">docs</a>)<br/>Sweep page:  <a href=\"https://wandb.ai/h3x4g0n/cifar-10-grid/sweeps/u67y5b6w\" target=\"_blank\">https://wandb.ai/h3x4g0n/cifar-10-grid/sweeps/u67y5b6w</a>"
      ],
      "text/plain": [
       "<IPython.core.display.HTML object>"
      ]
     },
     "metadata": {},
     "output_type": "display_data"
    },
    {
     "name": "stdout",
     "output_type": "stream",
     "text": [
      "Epoch 1/20\n",
      "195/196 [============================>.] - ETA: 0s - loss: 2.1453 - accuracy: 0.2145"
     ]
    },
    {
     "name": "stderr",
     "output_type": "stream",
     "text": [
      "\u001b[34m\u001b[1mwandb\u001b[0m: \u001b[32m\u001b[41mERROR\u001b[0m Can't save model in the h5py format. The model will be saved as W&B Artifacts in the SavedModel format.\n",
      "WARNING:absl:Found untraced functions such as conv_187_layer_call_fn, conv_187_layer_call_and_return_conditional_losses, activation_1_layer_call_fn, activation_1_layer_call_and_return_conditional_losses, conv2d_1_layer_call_fn while saving (showing 5 of 134). These functions will not be directly callable after loading.\n"
     ]
    },
    {
     "name": "stdout",
     "output_type": "stream",
     "text": [
      "INFO:tensorflow:Assets written to: /home/hexagon/Code/m1-ml/models/wandb/run-20220617_234629-e1rswdnr/files/model-best/assets\n"
     ]
    },
    {
     "name": "stderr",
     "output_type": "stream",
     "text": [
      "INFO:tensorflow:Assets written to: /home/hexagon/Code/m1-ml/models/wandb/run-20220617_234629-e1rswdnr/files/model-best/assets\n",
      "\u001b[34m\u001b[1mwandb\u001b[0m: Adding directory to artifact (/home/hexagon/Code/m1-ml/models/wandb/run-20220617_234629-e1rswdnr/files/model-best)... Done. 0.6s\n"
     ]
    },
    {
     "name": "stdout",
     "output_type": "stream",
     "text": [
      "196/196 [==============================] - 24s 87ms/step - loss: 2.1451 - accuracy: 0.2145 - val_loss: 3.1005 - val_accuracy: 0.1226 - _timestamp: 1655534812.0000 - _runtime: 23.0000\n",
      "Epoch 2/20\n",
      "195/196 [============================>.] - ETA: 0s - loss: 2.0547 - accuracy: 0.2160"
     ]
    },
    {
     "name": "stderr",
     "output_type": "stream",
     "text": [
      "WARNING:absl:Found untraced functions such as conv_187_layer_call_fn, conv_187_layer_call_and_return_conditional_losses, activation_1_layer_call_fn, activation_1_layer_call_and_return_conditional_losses, conv2d_1_layer_call_fn while saving (showing 5 of 134). These functions will not be directly callable after loading.\n"
     ]
    },
    {
     "name": "stdout",
     "output_type": "stream",
     "text": [
      "INFO:tensorflow:Assets written to: /home/hexagon/Code/m1-ml/models/wandb/run-20220617_234629-e1rswdnr/files/model-best/assets\n"
     ]
    },
    {
     "name": "stderr",
     "output_type": "stream",
     "text": [
      "INFO:tensorflow:Assets written to: /home/hexagon/Code/m1-ml/models/wandb/run-20220617_234629-e1rswdnr/files/model-best/assets\n",
      "\u001b[34m\u001b[1mwandb\u001b[0m: Adding directory to artifact (/home/hexagon/Code/m1-ml/models/wandb/run-20220617_234629-e1rswdnr/files/model-best)... Done. 0.6s\n"
     ]
    },
    {
     "name": "stdout",
     "output_type": "stream",
     "text": [
      "196/196 [==============================] - 16s 84ms/step - loss: 2.0546 - accuracy: 0.2162 - val_loss: 2.2044 - val_accuracy: 0.1939 - _timestamp: 1655534828.0000 - _runtime: 39.0000\n",
      "Epoch 3/20\n",
      "196/196 [==============================] - 9s 44ms/step - loss: 1.8917 - accuracy: 0.3128 - val_loss: 2.9156 - val_accuracy: 0.2169 - _timestamp: 1655534845.0000 - _runtime: 56.0000\n",
      "Epoch 4/20\n",
      "195/196 [============================>.] - ETA: 0s - loss: 1.8741 - accuracy: 0.3038"
     ]
    },
    {
     "name": "stderr",
     "output_type": "stream",
     "text": [
      "WARNING:absl:Found untraced functions such as conv_187_layer_call_fn, conv_187_layer_call_and_return_conditional_losses, activation_1_layer_call_fn, activation_1_layer_call_and_return_conditional_losses, conv2d_1_layer_call_fn while saving (showing 5 of 134). These functions will not be directly callable after loading.\n"
     ]
    },
    {
     "name": "stdout",
     "output_type": "stream",
     "text": [
      "INFO:tensorflow:Assets written to: /home/hexagon/Code/m1-ml/models/wandb/run-20220617_234629-e1rswdnr/files/model-best/assets\n"
     ]
    },
    {
     "name": "stderr",
     "output_type": "stream",
     "text": [
      "INFO:tensorflow:Assets written to: /home/hexagon/Code/m1-ml/models/wandb/run-20220617_234629-e1rswdnr/files/model-best/assets\n",
      "\u001b[34m\u001b[1mwandb\u001b[0m: Adding directory to artifact (/home/hexagon/Code/m1-ml/models/wandb/run-20220617_234629-e1rswdnr/files/model-best)... Done. 0.7s\n"
     ]
    },
    {
     "name": "stdout",
     "output_type": "stream",
     "text": [
      "196/196 [==============================] - 17s 85ms/step - loss: 1.8738 - accuracy: 0.3038 - val_loss: 1.8736 - val_accuracy: 0.2967 - _timestamp: 1655534853.0000 - _runtime: 64.0000\n",
      "Epoch 5/20\n",
      "196/196 [==============================] - 9s 44ms/step - loss: 1.7746 - accuracy: 0.3552 - val_loss: 1.9620 - val_accuracy: 0.3021 - _timestamp: 1655534870.0000 - _runtime: 81.0000\n",
      "Epoch 6/20\n",
      "196/196 [==============================] - 8s 43ms/step - loss: 1.8177 - accuracy: 0.3087 - val_loss: 3.2312 - val_accuracy: 0.0997 - _timestamp: 1655534878.0000 - _runtime: 89.0000\n",
      "Epoch 7/20\n",
      "196/196 [==============================] - 8s 43ms/step - loss: 1.7698 - accuracy: 0.3315 - val_loss: 2.6560 - val_accuracy: 0.2183 - _timestamp: 1655534887.0000 - _runtime: 98.0000\n",
      "Epoch 8/20\n",
      "196/196 [==============================] - 8s 43ms/step - loss: 1.7038 - accuracy: 0.3655 - val_loss: 2.0922 - val_accuracy: 0.2500 - _timestamp: 1655534895.0000 - _runtime: 106.0000\n",
      "Epoch 9/20\n",
      "196/196 [==============================] - 8s 43ms/step - loss: 1.6877 - accuracy: 0.3525 - val_loss: 2.7433 - val_accuracy: 0.2539 - _timestamp: 1655534904.0000 - _runtime: 115.0000\n",
      "Epoch 10/20\n",
      "196/196 [==============================] - 8s 43ms/step - loss: 1.8008 - accuracy: 0.3074 - val_loss: 2.3122 - val_accuracy: 0.2188 - _timestamp: 1655534912.0000 - _runtime: 123.0000\n",
      "Epoch 11/20\n",
      "196/196 [==============================] - 9s 44ms/step - loss: 1.7395 - accuracy: 0.3333 - val_loss: 2.4517 - val_accuracy: 0.1637 - _timestamp: 1655534921.0000 - _runtime: 132.0000\n",
      "Epoch 12/20\n",
      "195/196 [============================>.] - ETA: 0s - loss: 1.7591 - accuracy: 0.3334"
     ]
    },
    {
     "name": "stderr",
     "output_type": "stream",
     "text": [
      "WARNING:absl:Found untraced functions such as conv_187_layer_call_fn, conv_187_layer_call_and_return_conditional_losses, activation_1_layer_call_fn, activation_1_layer_call_and_return_conditional_losses, conv2d_1_layer_call_fn while saving (showing 5 of 134). These functions will not be directly callable after loading.\n"
     ]
    },
    {
     "name": "stdout",
     "output_type": "stream",
     "text": [
      "INFO:tensorflow:Assets written to: /home/hexagon/Code/m1-ml/models/wandb/run-20220617_234629-e1rswdnr/files/model-best/assets\n"
     ]
    },
    {
     "name": "stderr",
     "output_type": "stream",
     "text": [
      "INFO:tensorflow:Assets written to: /home/hexagon/Code/m1-ml/models/wandb/run-20220617_234629-e1rswdnr/files/model-best/assets\n",
      "\u001b[34m\u001b[1mwandb\u001b[0m: Adding directory to artifact (/home/hexagon/Code/m1-ml/models/wandb/run-20220617_234629-e1rswdnr/files/model-best)... Done. 0.7s\n"
     ]
    },
    {
     "name": "stdout",
     "output_type": "stream",
     "text": [
      "196/196 [==============================] - 17s 85ms/step - loss: 1.7589 - accuracy: 0.3336 - val_loss: 1.7242 - val_accuracy: 0.3503 - _timestamp: 1655534929.0000 - _runtime: 140.0000\n",
      "Epoch 13/20\n",
      "195/196 [============================>.] - ETA: 0s - loss: 1.5923 - accuracy: 0.4001"
     ]
    },
    {
     "name": "stderr",
     "output_type": "stream",
     "text": [
      "WARNING:absl:Found untraced functions such as conv_187_layer_call_fn, conv_187_layer_call_and_return_conditional_losses, activation_1_layer_call_fn, activation_1_layer_call_and_return_conditional_losses, conv2d_1_layer_call_fn while saving (showing 5 of 134). These functions will not be directly callable after loading.\n"
     ]
    },
    {
     "name": "stdout",
     "output_type": "stream",
     "text": [
      "INFO:tensorflow:Assets written to: /home/hexagon/Code/m1-ml/models/wandb/run-20220617_234629-e1rswdnr/files/model-best/assets\n"
     ]
    },
    {
     "name": "stderr",
     "output_type": "stream",
     "text": [
      "INFO:tensorflow:Assets written to: /home/hexagon/Code/m1-ml/models/wandb/run-20220617_234629-e1rswdnr/files/model-best/assets\n",
      "\u001b[34m\u001b[1mwandb\u001b[0m: Adding directory to artifact (/home/hexagon/Code/m1-ml/models/wandb/run-20220617_234629-e1rswdnr/files/model-best)... Done. 0.7s\n"
     ]
    },
    {
     "name": "stdout",
     "output_type": "stream",
     "text": [
      "196/196 [==============================] - 17s 86ms/step - loss: 1.5930 - accuracy: 0.4000 - val_loss: 1.6648 - val_accuracy: 0.3850 - _timestamp: 1655534945.0000 - _runtime: 156.0000\n",
      "Epoch 14/20\n",
      "196/196 [==============================] - 9s 44ms/step - loss: 1.6443 - accuracy: 0.3862 - val_loss: 1.9073 - val_accuracy: 0.2450 - _timestamp: 1655534962.0000 - _runtime: 173.0000\n",
      "Epoch 15/20\n",
      "196/196 [==============================] - ETA: 0s - loss: 1.5423 - accuracy: 0.4214"
     ]
    },
    {
     "name": "stderr",
     "output_type": "stream",
     "text": [
      "WARNING:absl:Found untraced functions such as conv_187_layer_call_fn, conv_187_layer_call_and_return_conditional_losses, activation_1_layer_call_fn, activation_1_layer_call_and_return_conditional_losses, conv2d_1_layer_call_fn while saving (showing 5 of 134). These functions will not be directly callable after loading.\n"
     ]
    },
    {
     "name": "stdout",
     "output_type": "stream",
     "text": [
      "INFO:tensorflow:Assets written to: /home/hexagon/Code/m1-ml/models/wandb/run-20220617_234629-e1rswdnr/files/model-best/assets\n"
     ]
    },
    {
     "name": "stderr",
     "output_type": "stream",
     "text": [
      "INFO:tensorflow:Assets written to: /home/hexagon/Code/m1-ml/models/wandb/run-20220617_234629-e1rswdnr/files/model-best/assets\n",
      "\u001b[34m\u001b[1mwandb\u001b[0m: Adding directory to artifact (/home/hexagon/Code/m1-ml/models/wandb/run-20220617_234629-e1rswdnr/files/model-best)... Done. 0.7s\n"
     ]
    },
    {
     "name": "stdout",
     "output_type": "stream",
     "text": [
      "196/196 [==============================] - 17s 85ms/step - loss: 1.5423 - accuracy: 0.4214 - val_loss: 1.4869 - val_accuracy: 0.4513 - _timestamp: 1655534971.0000 - _runtime: 182.0000\n",
      "Epoch 16/20\n",
      "196/196 [==============================] - 8s 43ms/step - loss: 1.6020 - accuracy: 0.3977 - val_loss: 1.5517 - val_accuracy: 0.4217 - _timestamp: 1655534987.0000 - _runtime: 198.0000\n",
      "Epoch 17/20\n",
      "196/196 [==============================] - 8s 43ms/step - loss: 1.4590 - accuracy: 0.4512 - val_loss: 2.1669 - val_accuracy: 0.3524 - _timestamp: 1655534996.0000 - _runtime: 207.0000\n",
      "Epoch 18/20\n",
      "196/196 [==============================] - 8s 43ms/step - loss: 1.9130 - accuracy: 0.2800 - val_loss: 2.4604 - val_accuracy: 0.1000 - _timestamp: 1655535004.0000 - _runtime: 215.0000\n",
      "Epoch 19/20\n",
      "196/196 [==============================] - 8s 43ms/step - loss: 2.0457 - accuracy: 0.2323 - val_loss: 2.2694 - val_accuracy: 0.1915 - _timestamp: 1655535013.0000 - _runtime: 224.0000\n",
      "Epoch 20/20\n",
      "196/196 [==============================] - 9s 44ms/step - loss: 1.8161 - accuracy: 0.3080 - val_loss: 1.9219 - val_accuracy: 0.2584 - _timestamp: 1655535021.0000 - _runtime: 232.0000\n"
     ]
    },
    {
     "data": {
      "text/html": [
       "Waiting for W&B process to finish... <strong style=\"color:green\">(success).</strong>"
      ],
      "text/plain": [
       "<IPython.core.display.HTML object>"
      ]
     },
     "metadata": {},
     "output_type": "display_data"
    },
    {
     "data": {
      "text/html": [
       "<style>\n",
       "    table.wandb td:nth-child(1) { padding: 0 10px; text-align: left ; width: auto;} td:nth-child(2) {text-align: left ; width: 100%}\n",
       "    .wandb-row { display: flex; flex-direction: row; flex-wrap: wrap; justify-content: flex-start; width: 100% }\n",
       "    .wandb-col { display: flex; flex-direction: column; flex-basis: 100%; flex: 1; padding: 10px; }\n",
       "    </style>\n",
       "<div class=\"wandb-row\"><div class=\"wandb-col\"><h3>Run history:</h3><br/><table class=\"wandb\"><tr><td>accuracy</td><td>▁▁▄▄▅▄▄▅▅▄▅▅▆▆▇▆█▃▂▄</td></tr><tr><td>epoch</td><td>▁▁▂▂▂▃▃▄▄▄▅▅▅▆▆▇▇▇██</td></tr><tr><td>loss</td><td>█▇▅▅▄▅▄▃▃▄▄▄▂▃▂▂▁▆▇▅</td></tr><tr><td>val_accuracy</td><td>▁▃▃▅▅▁▃▄▄▃▂▆▇▄█▇▆▁▃▄</td></tr><tr><td>val_loss</td><td>▇▄▇▃▃█▆▃▆▄▅▂▂▃▁▁▄▅▄▃</td></tr></table><br/></div><div class=\"wandb-col\"><h3>Run summary:</h3><br/><table class=\"wandb\"><tr><td>accuracy</td><td>0.30802</td></tr><tr><td>best_epoch</td><td>14</td></tr><tr><td>best_val_loss</td><td>1.48691</td></tr><tr><td>epoch</td><td>19</td></tr><tr><td>loss</td><td>1.81613</td></tr><tr><td>val_accuracy</td><td>0.2584</td></tr><tr><td>val_loss</td><td>1.92191</td></tr></table><br/></div></div>"
      ],
      "text/plain": [
       "<IPython.core.display.HTML object>"
      ]
     },
     "metadata": {},
     "output_type": "display_data"
    },
    {
     "data": {
      "text/html": [
       "Synced <strong style=\"color:#cdcd00\">colorful-sweep-2</strong>: <a href=\"https://wandb.ai/h3x4g0n/cifar-10-grid/runs/e1rswdnr\" target=\"_blank\">https://wandb.ai/h3x4g0n/cifar-10-grid/runs/e1rswdnr</a><br/>Synced 6 W&B file(s), 1 media file(s), 19 artifact file(s) and 0 other file(s)"
      ],
      "text/plain": [
       "<IPython.core.display.HTML object>"
      ]
     },
     "metadata": {},
     "output_type": "display_data"
    },
    {
     "data": {
      "text/html": [
       "Find logs at: <code>./wandb/run-20220617_234629-e1rswdnr/logs</code>"
      ],
      "text/plain": [
       "<IPython.core.display.HTML object>"
      ]
     },
     "metadata": {},
     "output_type": "display_data"
    },
    {
     "name": "stderr",
     "output_type": "stream",
     "text": [
      "\u001b[34m\u001b[1mwandb\u001b[0m: Agent Starting Run: 60356nj9 with config:\n",
      "\u001b[34m\u001b[1mwandb\u001b[0m: \tactivation: softmax\n",
      "\u001b[34m\u001b[1mwandb\u001b[0m: \tbatch_size: 16\n",
      "\u001b[34m\u001b[1mwandb\u001b[0m: \tepochs: 50\n",
      "\u001b[34m\u001b[1mwandb\u001b[0m: \tlatent: 512\n",
      "\u001b[34m\u001b[1mwandb\u001b[0m: \tlearning_rate: 0.05773984593240072\n",
      "\u001b[34m\u001b[1mwandb\u001b[0m: \toptimizer: adam\n",
      "Failed to detect the name of this notebook, you can set it manually with the WANDB_NOTEBOOK_NAME environment variable to enable code saving.\n",
      "\u001b[34m\u001b[1mwandb\u001b[0m: \u001b[33mWARNING\u001b[0m Ignored wandb.init() arg project when running a sweep.\n"
     ]
    },
    {
     "data": {
      "text/html": [
       "wandb version 0.12.18 is available!  To upgrade, please run:\n",
       " $ pip install wandb --upgrade"
      ],
      "text/plain": [
       "<IPython.core.display.HTML object>"
      ]
     },
     "metadata": {},
     "output_type": "display_data"
    },
    {
     "data": {
      "text/html": [
       "Tracking run with wandb version 0.12.17"
      ],
      "text/plain": [
       "<IPython.core.display.HTML object>"
      ]
     },
     "metadata": {},
     "output_type": "display_data"
    },
    {
     "data": {
      "text/html": [
       "Run data is saved locally in <code>/home/hexagon/Code/m1-ml/models/wandb/run-20220617_235941-60356nj9</code>"
      ],
      "text/plain": [
       "<IPython.core.display.HTML object>"
      ]
     },
     "metadata": {},
     "output_type": "display_data"
    },
    {
     "data": {
      "text/html": [
       "Syncing run <strong><a href=\"https://wandb.ai/h3x4g0n/cifar-10-grid/runs/60356nj9\" target=\"_blank\">volcanic-sweep-3</a></strong> to <a href=\"https://wandb.ai/h3x4g0n/cifar-10-grid\" target=\"_blank\">Weights & Biases</a> (<a href=\"https://wandb.me/run\" target=\"_blank\">docs</a>)<br/>Sweep page:  <a href=\"https://wandb.ai/h3x4g0n/cifar-10-grid/sweeps/u67y5b6w\" target=\"_blank\">https://wandb.ai/h3x4g0n/cifar-10-grid/sweeps/u67y5b6w</a>"
      ],
      "text/plain": [
       "<IPython.core.display.HTML object>"
      ]
     },
     "metadata": {},
     "output_type": "display_data"
    },
    {
     "name": "stdout",
     "output_type": "stream",
     "text": [
      "Epoch 1/50\n",
      "3124/3125 [============================>.] - ETA: 0s - loss: 1.5779 - accuracy: 0.4428"
     ]
    },
    {
     "name": "stderr",
     "output_type": "stream",
     "text": [
      "\u001b[34m\u001b[1mwandb\u001b[0m: \u001b[32m\u001b[41mERROR\u001b[0m Can't save model in the h5py format. The model will be saved as W&B Artifacts in the SavedModel format.\n",
      "WARNING:absl:Found untraced functions such as conv_143_layer_call_fn, conv_143_layer_call_and_return_conditional_losses, activation_1_layer_call_fn, activation_1_layer_call_and_return_conditional_losses, conv2d_1_layer_call_fn while saving (showing 5 of 134). These functions will not be directly callable after loading.\n"
     ]
    },
    {
     "name": "stdout",
     "output_type": "stream",
     "text": [
      "INFO:tensorflow:Assets written to: /home/hexagon/Code/m1-ml/models/wandb/run-20220617_235941-60356nj9/files/model-best/assets\n"
     ]
    },
    {
     "name": "stderr",
     "output_type": "stream",
     "text": [
      "INFO:tensorflow:Assets written to: /home/hexagon/Code/m1-ml/models/wandb/run-20220617_235941-60356nj9/files/model-best/assets\n",
      "\u001b[34m\u001b[1mwandb\u001b[0m: Adding directory to artifact (/home/hexagon/Code/m1-ml/models/wandb/run-20220617_235941-60356nj9/files/model-best)... Done. 0.7s\n"
     ]
    },
    {
     "name": "stdout",
     "output_type": "stream",
     "text": [
      "3125/3125 [==============================] - 76s 24ms/step - loss: 1.5778 - accuracy: 0.4429 - val_loss: 1.4289 - val_accuracy: 0.5037 - _timestamp: 1655535656.0000 - _runtime: 75.0000\n",
      "Epoch 2/50\n",
      "3125/3125 [==============================] - 64s 20ms/step - loss: 1.1802 - accuracy: 0.5922 - val_loss: 1.6452 - val_accuracy: 0.4954 - _timestamp: 1655535727.0000 - _runtime: 146.0000\n",
      "Epoch 3/50\n",
      "3123/3125 [============================>.] - ETA: 0s - loss: 0.9923 - accuracy: 0.6588"
     ]
    },
    {
     "name": "stderr",
     "output_type": "stream",
     "text": [
      "WARNING:absl:Found untraced functions such as conv_143_layer_call_fn, conv_143_layer_call_and_return_conditional_losses, activation_1_layer_call_fn, activation_1_layer_call_and_return_conditional_losses, conv2d_1_layer_call_fn while saving (showing 5 of 134). These functions will not be directly callable after loading.\n"
     ]
    },
    {
     "name": "stdout",
     "output_type": "stream",
     "text": [
      "INFO:tensorflow:Assets written to: /home/hexagon/Code/m1-ml/models/wandb/run-20220617_235941-60356nj9/files/model-best/assets\n"
     ]
    },
    {
     "name": "stderr",
     "output_type": "stream",
     "text": [
      "INFO:tensorflow:Assets written to: /home/hexagon/Code/m1-ml/models/wandb/run-20220617_235941-60356nj9/files/model-best/assets\n",
      "\u001b[34m\u001b[1mwandb\u001b[0m: Adding directory to artifact (/home/hexagon/Code/m1-ml/models/wandb/run-20220617_235941-60356nj9/files/model-best)... Done. 0.7s\n"
     ]
    },
    {
     "name": "stdout",
     "output_type": "stream",
     "text": [
      "3125/3125 [==============================] - 72s 23ms/step - loss: 0.9923 - accuracy: 0.6588 - val_loss: 0.8965 - val_accuracy: 0.6916 - _timestamp: 1655535791.0000 - _runtime: 210.0000\n",
      "Epoch 4/50\n",
      "3125/3125 [==============================] - 63s 20ms/step - loss: 0.8429 - accuracy: 0.7120 - val_loss: 1.2247 - val_accuracy: 0.6165 - _timestamp: 1655535862.0000 - _runtime: 281.0000\n",
      "Epoch 5/50\n",
      "3124/3125 [============================>.] - ETA: 0s - loss: 0.7269 - accuracy: 0.7546"
     ]
    },
    {
     "name": "stderr",
     "output_type": "stream",
     "text": [
      "WARNING:absl:Found untraced functions such as conv_143_layer_call_fn, conv_143_layer_call_and_return_conditional_losses, activation_1_layer_call_fn, activation_1_layer_call_and_return_conditional_losses, conv2d_1_layer_call_fn while saving (showing 5 of 134). These functions will not be directly callable after loading.\n"
     ]
    },
    {
     "name": "stdout",
     "output_type": "stream",
     "text": [
      "INFO:tensorflow:Assets written to: /home/hexagon/Code/m1-ml/models/wandb/run-20220617_235941-60356nj9/files/model-best/assets\n"
     ]
    },
    {
     "name": "stderr",
     "output_type": "stream",
     "text": [
      "INFO:tensorflow:Assets written to: /home/hexagon/Code/m1-ml/models/wandb/run-20220617_235941-60356nj9/files/model-best/assets\n",
      "\u001b[34m\u001b[1mwandb\u001b[0m: Adding directory to artifact (/home/hexagon/Code/m1-ml/models/wandb/run-20220617_235941-60356nj9/files/model-best)... Done. 0.6s\n"
     ]
    },
    {
     "name": "stdout",
     "output_type": "stream",
     "text": [
      "3125/3125 [==============================] - 71s 23ms/step - loss: 0.7269 - accuracy: 0.7546 - val_loss: 0.8082 - val_accuracy: 0.7255 - _timestamp: 1655535926.0000 - _runtime: 345.0000\n",
      "Epoch 6/50\n",
      "3125/3125 [==============================] - 64s 20ms/step - loss: 0.6300 - accuracy: 0.7869 - val_loss: 0.8842 - val_accuracy: 0.6939 - _timestamp: 1655535997.0000 - _runtime: 416.0000\n",
      "Epoch 7/50\n",
      "3125/3125 [==============================] - 63s 20ms/step - loss: 0.5525 - accuracy: 0.8139 - val_loss: 0.8846 - val_accuracy: 0.7084 - _timestamp: 1655536061.0000 - _runtime: 480.0000\n",
      "Epoch 8/50\n",
      "3125/3125 [==============================] - ETA: 0s - loss: 0.4737 - accuracy: 0.8399"
     ]
    },
    {
     "name": "stderr",
     "output_type": "stream",
     "text": [
      "WARNING:absl:Found untraced functions such as conv_143_layer_call_fn, conv_143_layer_call_and_return_conditional_losses, activation_1_layer_call_fn, activation_1_layer_call_and_return_conditional_losses, conv2d_1_layer_call_fn while saving (showing 5 of 134). These functions will not be directly callable after loading.\n"
     ]
    },
    {
     "name": "stdout",
     "output_type": "stream",
     "text": [
      "INFO:tensorflow:Assets written to: /home/hexagon/Code/m1-ml/models/wandb/run-20220617_235941-60356nj9/files/model-best/assets\n"
     ]
    },
    {
     "name": "stderr",
     "output_type": "stream",
     "text": [
      "INFO:tensorflow:Assets written to: /home/hexagon/Code/m1-ml/models/wandb/run-20220617_235941-60356nj9/files/model-best/assets\n",
      "\u001b[34m\u001b[1mwandb\u001b[0m: Adding directory to artifact (/home/hexagon/Code/m1-ml/models/wandb/run-20220617_235941-60356nj9/files/model-best)... Done. 0.7s\n"
     ]
    },
    {
     "name": "stdout",
     "output_type": "stream",
     "text": [
      "3125/3125 [==============================] - 76s 24ms/step - loss: 0.4737 - accuracy: 0.8399 - val_loss: 0.7329 - val_accuracy: 0.7547 - _timestamp: 1655536128.0000 - _runtime: 547.0000\n",
      "Epoch 9/50\n",
      "3125/3125 [==============================] - 64s 20ms/step - loss: 0.4069 - accuracy: 0.8634 - val_loss: 0.7557 - val_accuracy: 0.7538 - _timestamp: 1655536201.0000 - _runtime: 620.0000\n",
      "Epoch 10/50\n",
      "3125/3125 [==============================] - 65s 21ms/step - loss: 0.3450 - accuracy: 0.8842 - val_loss: 0.8095 - val_accuracy: 0.7509 - _timestamp: 1655536265.0000 - _runtime: 684.0000\n",
      "Epoch 11/50\n",
      "1823/3125 [================>.............] - ETA: 26s - loss: 0.2896 - accuracy: 0.9028"
     ]
    },
    {
     "name": "stderr",
     "output_type": "stream",
     "text": [
      "\u001b[34m\u001b[1mwandb\u001b[0m: Ctrl + C detected. Stopping sweep.\n",
      "Exception in thread Thread-199:\n",
      "Traceback (most recent call last):\n",
      "  File \"/home/hexagon/miniconda3/envs/tf37/lib/python3.7/site-packages/wandb/agents/pyagent.py\", line 300, in _run_job\n",
      "    self._function()\n",
      "  File \"/tmp/ipykernel_13223/2828998793.py\", line 15, in train\n",
      "    callbacks=[WandbCallback()])\n",
      "  File \"/home/hexagon/miniconda3/envs/tf37/lib/python3.7/site-packages/wandb/integration/keras/keras.py\", line 163, in new_v2\n",
      "    return old_v2(*args, **kwargs)\n",
      "  File \"/home/hexagon/miniconda3/envs/tf37/lib/python3.7/site-packages/keras/utils/traceback_utils.py\", line 67, in error_handler\n",
      "    raise e.with_traceback(filtered_tb) from None\n",
      "  File \"/home/hexagon/miniconda3/envs/tf37/lib/python3.7/site-packages/tensorflow/python/eager/execute.py\", line 55, in quick_execute\n",
      "    inputs, attrs, num_outputs)\n",
      "Exception\n",
      "\n",
      "During handling of the above exception, another exception occurred:\n",
      "\n",
      "Traceback (most recent call last):\n",
      "  File \"/home/hexagon/miniconda3/envs/tf37/lib/python3.7/threading.py\", line 926, in _bootstrap_inner\n",
      "    self.run()\n",
      "  File \"/home/hexagon/miniconda3/envs/tf37/lib/python3.7/threading.py\", line 870, in run\n",
      "    self._target(*self._args, **self._kwargs)\n",
      "  File \"/home/hexagon/miniconda3/envs/tf37/lib/python3.7/site-packages/wandb/agents/pyagent.py\", line 305, in _run_job\n",
      "    wandb.finish(exit_code=1)\n",
      "  File \"/home/hexagon/miniconda3/envs/tf37/lib/python3.7/site-packages/wandb/sdk/wandb_run.py\", line 3324, in finish\n",
      "    wandb.run.finish(exit_code=exit_code, quiet=quiet)\n",
      "  File \"/home/hexagon/miniconda3/envs/tf37/lib/python3.7/site-packages/wandb/sdk/wandb_run.py\", line 256, in wrapper\n",
      "    return func(self, *args, **kwargs)\n",
      "  File \"/home/hexagon/miniconda3/envs/tf37/lib/python3.7/site-packages/wandb/sdk/wandb_run.py\", line 222, in wrapper\n",
      "    return func(self, *args, **kwargs)\n",
      "  File \"/home/hexagon/miniconda3/envs/tf37/lib/python3.7/site-packages/wandb/sdk/wandb_run.py\", line 1678, in finish\n",
      "    return self._finish(exit_code, quiet)\n",
      "  File \"/home/hexagon/miniconda3/envs/tf37/lib/python3.7/site-packages/wandb/sdk/wandb_run.py\", line 1689, in _finish\n",
      "    hook.call()\n",
      "  File \"/home/hexagon/miniconda3/envs/tf37/lib/python3.7/site-packages/wandb/sdk/wandb_init.py\", line 368, in _jupyter_teardown\n",
      "    ipython.display_pub.publish = ipython.display_pub._orig_publish\n",
      "AttributeError: 'ZMQDisplayPublisher' object has no attribute '_orig_publish'\n",
      "\n"
     ]
    },
    {
     "data": {
      "text/html": [
       "Waiting for W&B process to finish... <strong style=\"color:green\">(success).</strong>"
      ],
      "text/plain": [
       "<IPython.core.display.HTML object>"
      ]
     },
     "metadata": {},
     "output_type": "display_data"
    },
    {
     "data": {
      "text/html": [
       "<style>\n",
       "    table.wandb td:nth-child(1) { padding: 0 10px; text-align: left ; width: auto;} td:nth-child(2) {text-align: left ; width: 100%}\n",
       "    .wandb-row { display: flex; flex-direction: row; flex-wrap: wrap; justify-content: flex-start; width: 100% }\n",
       "    .wandb-col { display: flex; flex-direction: column; flex-basis: 100%; flex: 1; padding: 10px; }\n",
       "    </style>\n",
       "<div class=\"wandb-row\"><div class=\"wandb-col\"><h3>Run history:</h3><br/><table class=\"wandb\"><tr><td>accuracy</td><td>▁▃▄▅▆▆▇▇██</td></tr><tr><td>epoch</td><td>▁▂▃▃▄▅▆▆▇█</td></tr><tr><td>loss</td><td>█▆▅▄▃▃▂▂▁▁</td></tr><tr><td>val_accuracy</td><td>▁▁▆▄▇▆▇███</td></tr><tr><td>val_loss</td><td>▆█▂▅▂▂▂▁▁▂</td></tr></table><br/></div><div class=\"wandb-col\"><h3>Run summary:</h3><br/><table class=\"wandb\"><tr><td>accuracy</td><td>0.88418</td></tr><tr><td>best_epoch</td><td>7</td></tr><tr><td>best_val_loss</td><td>0.73292</td></tr><tr><td>epoch</td><td>9</td></tr><tr><td>loss</td><td>0.34496</td></tr><tr><td>val_accuracy</td><td>0.7509</td></tr><tr><td>val_loss</td><td>0.80947</td></tr></table><br/></div></div>"
      ],
      "text/plain": [
       "<IPython.core.display.HTML object>"
      ]
     },
     "metadata": {},
     "output_type": "display_data"
    },
    {
     "data": {
      "text/html": [
       "Synced <strong style=\"color:#cdcd00\">volcanic-sweep-3</strong>: <a href=\"https://wandb.ai/h3x4g0n/cifar-10-grid/runs/60356nj9\" target=\"_blank\">https://wandb.ai/h3x4g0n/cifar-10-grid/runs/60356nj9</a><br/>Synced 6 W&B file(s), 1 media file(s), 13 artifact file(s) and 0 other file(s)"
      ],
      "text/plain": [
       "<IPython.core.display.HTML object>"
      ]
     },
     "metadata": {},
     "output_type": "display_data"
    },
    {
     "data": {
      "text/html": [
       "Find logs at: <code>./wandb/run-20220617_235941-60356nj9/logs</code>"
      ],
      "text/plain": [
       "<IPython.core.display.HTML object>"
      ]
     },
     "metadata": {},
     "output_type": "display_data"
    }
   ],
   "source": [
    "# sweep\n",
    "wandb.agent(sweep_id, function=train)\n",
    "wandb.finish()"
   ]
  },
  {
   "cell_type": "code",
   "execution_count": null,
   "metadata": {},
   "outputs": [],
   "source": [
    "wandb.finish()"
   ]
  },
  {
   "cell_type": "code",
   "execution_count": null,
   "metadata": {},
   "outputs": [],
   "source": []
  }
 ],
 "metadata": {
  "kernelspec": {
   "display_name": "Python 3.9.7 ('base')",
   "language": "python",
   "name": "python3"
  },
  "language_info": {
   "codemirror_mode": {
    "name": "ipython",
    "version": 3
   },
   "file_extension": ".py",
   "mimetype": "text/x-python",
   "name": "python",
   "nbconvert_exporter": "python",
   "pygments_lexer": "ipython3",
   "version": "3.9.7"
  },
  "orig_nbformat": 4,
  "vscode": {
   "interpreter": {
    "hash": "822644bdef8dbd95e175e465beaa6f271e99356a92a6fb8e41d4eaafa7c91275"
   }
  }
 },
 "nbformat": 4,
 "nbformat_minor": 2
}
