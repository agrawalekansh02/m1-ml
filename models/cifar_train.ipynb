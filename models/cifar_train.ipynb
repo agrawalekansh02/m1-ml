{
 "cells": [
  {
   "cell_type": "code",
   "execution_count": 1,
   "metadata": {},
   "outputs": [],
   "source": [
    "import numpy as np\n",
    "import matplotlib.pyplot as plt\n",
    "import tensorflow as tf\n",
    "import keras\n",
    "from sklearn.model_selection import GridSearchCV\n",
    "from tensorflow.keras.datasets import cifar10\n",
    "from resnet34 import ResNet34"
   ]
  },
  {
   "cell_type": "markdown",
   "metadata": {},
   "source": [
    "## load cifar10 data"
   ]
  },
  {
   "cell_type": "code",
   "execution_count": 2,
   "metadata": {},
   "outputs": [],
   "source": [
    "(X_train, Y_train), (X_test, Y_test) = cifar10.load_data()\n",
    "num_classes = 10\n",
    "input_shape = X_train[0].shape\n",
    "X_train = X_train.astype('float32')\n",
    "X_test = X_test.astype('float32')\n",
    "X_train /= 255\n",
    "X_test /= 255\n",
    "Y_train = keras.utils.np_utils.to_categorical(Y_train, num_classes)\n",
    "Y_test = keras.utils.np_utils.to_categorical(Y_test, num_classes)\n"
   ]
  },
  {
   "cell_type": "code",
   "execution_count": 3,
   "metadata": {},
   "outputs": [
    {
     "data": {
      "image/png": "[encoded data removed]",
      "text/plain": [
       "<Figure size 432x288 with 1 Axes>"
      ]
     },
     "metadata": {
      "needs_background": "light"
     },
     "output_type": "display_data"
    },
    {
     "name": "stdout",
     "output_type": "stream",
     "text": [
      "1\n"
     ]
    }
   ],
   "source": [
    "num = 64\n",
    "plt.imshow(X_train[num])\n",
    "plt.show()\n",
    "print(np.argmax(Y_train[num]))"
   ]
  },
  {
   "cell_type": "code",
   "execution_count": 5,
   "metadata": {},
   "outputs": [
    {
     "name": "stdout",
     "output_type": "stream",
     "text": [
      "Model: \"res_net34_1\"\n",
      "_________________________________________________________________\n",
      " Layer (type)                Output Shape              Param #   \n",
      "=================================================================\n",
      " conv2d_20 (Conv2D)          multiple                  9472      \n",
      "                                                                 \n",
      " batch_normalization_36 (Bat  multiple                 256       \n",
      " chNormalization)                                                \n",
      "                                                                 \n",
      " activation_33 (Activation)  multiple                  0         \n",
      "                                                                 \n",
      " max_pooling2d_1 (MaxPooling  multiple                 0         \n",
      " 2D)                                                             \n",
      "                                                                 \n",
      " residual_block_16 (Residual  multiple                 74368     \n",
      " Block)                                                          \n",
      "                                                                 \n",
      " residual_block_17 (Residual  multiple                 74368     \n",
      " Block)                                                          \n",
      "                                                                 \n",
      " residual_block_18 (Residual  multiple                 74368     \n",
      " Block)                                                          \n",
      "                                                                 \n",
      " residual_block_19 (Residual  multiple                 231296    \n",
      " Block)                                                          \n",
      "                                                                 \n",
      " residual_block_20 (Residual  multiple                 296192    \n",
      " Block)                                                          \n",
      "                                                                 \n",
      " residual_block_21 (Residual  multiple                 296192    \n",
      " Block)                                                          \n",
      "                                                                 \n",
      " residual_block_22 (Residual  multiple                 296192    \n",
      " Block)                                                          \n",
      "                                                                 \n",
      " residual_block_23 (Residual  multiple                 921344    \n",
      " Block)                                                          \n",
      "                                                                 \n",
      " residual_block_24 (Residual  multiple                 1182208   \n",
      " Block)                                                          \n",
      "                                                                 \n",
      " residual_block_25 (Residual  multiple                 1182208   \n",
      " Block)                                                          \n",
      "                                                                 \n",
      " residual_block_26 (Residual  multiple                 1182208   \n",
      " Block)                                                          \n",
      "                                                                 \n",
      " residual_block_27 (Residual  multiple                 1182208   \n",
      " Block)                                                          \n",
      "                                                                 \n",
      " residual_block_28 (Residual  multiple                 1182208   \n",
      " Block)                                                          \n",
      "                                                                 \n",
      " residual_block_29 (Residual  multiple                 3677696   \n",
      " Block)                                                          \n",
      "                                                                 \n",
      " residual_block_30 (Residual  multiple                 4723712   \n",
      " Block)                                                          \n",
      "                                                                 \n",
      " residual_block_31 (Residual  multiple                 4723712   \n",
      " Block)                                                          \n",
      "                                                                 \n",
      " global_average_pooling2d_1   multiple                 0         \n",
      " (GlobalAveragePooling2D)                                        \n",
      "                                                                 \n",
      " dense_2 (Dense)             multiple                  525312    \n",
      "                                                                 \n",
      " dense_3 (Dense)             multiple                  10250     \n",
      "                                                                 \n",
      "=================================================================\n",
      "Total params: 21,845,770\n",
      "Trainable params: 21,828,746\n",
      "Non-trainable params: 17,024\n",
      "_________________________________________________________________\n"
     ]
    }
   ],
   "source": [
    "model = ResNet34(latent=1024, n_classes=num_classes, activation='softmax')\n",
    "model.build(input_shape=(1, 32, 32, 3))\n",
    "model.summary()"
   ]
  },
  {
   "cell_type": "code",
   "execution_count": null,
   "metadata": {},
   "outputs": [],
   "source": [
    "model.compile(loss='categorical_crossentropy', optimizer='adam', metrics=['accuracy'])\n",
    "model.fit(X_train, Y_train, batch_size=128, epochs=20, verbose=1, validation_split=0.2)"
   ]
  },
  {
   "cell_type": "code",
   "execution_count": null,
   "metadata": {},
   "outputs": [],
   "source": [
    "model.evaluate(X_test, Y_test, verbose=1)"
   ]
  },
  {
   "cell_type": "code",
   "execution_count": null,
   "metadata": {},
   "outputs": [],
   "source": []
  }
 ],
 "metadata": {
  "interpreter": {
   "hash": "6b5e598761a2ac5bb93299115b047ed6d25e008cb3e4097da7606351e4132c77"
  },
  "kernelspec": {
   "display_name": "Python 3.7.13 ('tf37')",
   "language": "python",
   "name": "python3"
  },
  "language_info": {
   "codemirror_mode": {
    "name": "ipython",
    "version": 3
   },
   "file_extension": ".py",
   "mimetype": "text/x-python",
   "name": "python",
   "nbconvert_exporter": "python",
   "pygments_lexer": "ipython3",
   "version": "3.7.13"
  },
  "orig_nbformat": 4
 },
 "nbformat": 4,
 "nbformat_minor": 2
}
