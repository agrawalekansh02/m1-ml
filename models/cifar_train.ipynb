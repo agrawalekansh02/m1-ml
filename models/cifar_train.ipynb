{
 "cells": [
  {
   "cell_type": "code",
   "execution_count": 5,
   "metadata": {},
   "outputs": [],
   "source": [
    "import numpy as np\n",
    "import matplotlib.pyplot as plt\n",
    "import tensorflow as tf\n",
    "import keras\n",
    "from sklearn.model_selection import GridSearchCV\n",
    "from tensorflow.keras.datasets import cifar10, mnist\n",
    "from resnet34 import ResNet34"
   ]
  },
  {
   "cell_type": "markdown",
   "metadata": {},
   "source": [
    "## load cifar10 data"
   ]
  },
  {
   "cell_type": "code",
   "execution_count": 6,
   "metadata": {},
   "outputs": [
    {
     "name": "stdout",
     "output_type": "stream",
     "text": [
      "(28, 28)\n"
     ]
    }
   ],
   "source": [
    "(X_train, Y_train), (X_test, Y_test) = cifar10.load_data()\n",
    "num_classes = 10\n",
    "input_shape = X_train[0].shape\n",
    "print(input_shape)\n",
    "X_train = X_train.astype('float64')\n",
    "X_test = X_test.astype('float64')\n",
    "X_train /= 255\n",
    "X_test /= 255\n",
    "Y_train = keras.utils.np_utils.to_categorical(Y_train, num_classes)\n",
    "Y_test = keras.utils.np_utils.to_categorical(Y_test, num_classes)\n"
   ]
  },
  {
   "cell_type": "code",
   "execution_count": 7,
   "metadata": {},
   "outputs": [
    {
     "data": {
      "image/png": "[encoded data removed]",
      "text/plain": [
       "<Figure size 432x288 with 1 Axes>"
      ]
     },
     "metadata": {
      "needs_background": "light"
     },
     "output_type": "display_data"
    },
    {
     "name": "stdout",
     "output_type": "stream",
     "text": [
      "4\n"
     ]
    }
   ],
   "source": [
    "num = 64\n",
    "plt.imshow(X_train[num])\n",
    "plt.show()\n",
    "print(np.argmax(Y_train[num]))"
   ]
  },
  {
   "cell_type": "code",
   "execution_count": 9,
   "metadata": {},
   "outputs": [
    {
     "name": "stderr",
     "output_type": "stream",
     "text": [
      "2022-06-16 23:01:25.503449: I tensorflow/stream_executor/cuda/cuda_gpu_executor.cc:936] successful NUMA node read from SysFS had negative value (-1), but there must be at least one NUMA node, so returning NUMA node zero\n",
      "2022-06-16 23:01:25.535091: I tensorflow/stream_executor/cuda/cuda_gpu_executor.cc:936] successful NUMA node read from SysFS had negative value (-1), but there must be at least one NUMA node, so returning NUMA node zero\n",
      "2022-06-16 23:01:25.535251: I tensorflow/stream_executor/cuda/cuda_gpu_executor.cc:936] successful NUMA node read from SysFS had negative value (-1), but there must be at least one NUMA node, so returning NUMA node zero\n",
      "2022-06-16 23:01:25.535735: I tensorflow/core/platform/cpu_feature_guard.cc:151] This TensorFlow binary is optimized with oneAPI Deep Neural Network Library (oneDNN) to use the following CPU instructions in performance-critical operations:  AVX2 FMA\n",
      "To enable them in other operations, rebuild TensorFlow with the appropriate compiler flags.\n",
      "2022-06-16 23:01:25.536549: I tensorflow/stream_executor/cuda/cuda_gpu_executor.cc:936] successful NUMA node read from SysFS had negative value (-1), but there must be at least one NUMA node, so returning NUMA node zero\n",
      "2022-06-16 23:01:25.536673: I tensorflow/stream_executor/cuda/cuda_gpu_executor.cc:936] successful NUMA node read from SysFS had negative value (-1), but there must be at least one NUMA node, so returning NUMA node zero\n",
      "2022-06-16 23:01:25.536779: I tensorflow/stream_executor/cuda/cuda_gpu_executor.cc:936] successful NUMA node read from SysFS had negative value (-1), but there must be at least one NUMA node, so returning NUMA node zero\n",
      "2022-06-16 23:01:26.000645: I tensorflow/stream_executor/cuda/cuda_gpu_executor.cc:936] successful NUMA node read from SysFS had negative value (-1), but there must be at least one NUMA node, so returning NUMA node zero\n",
      "2022-06-16 23:01:26.000791: I tensorflow/stream_executor/cuda/cuda_gpu_executor.cc:936] successful NUMA node read from SysFS had negative value (-1), but there must be at least one NUMA node, so returning NUMA node zero\n",
      "2022-06-16 23:01:26.000907: I tensorflow/stream_executor/cuda/cuda_gpu_executor.cc:936] successful NUMA node read from SysFS had negative value (-1), but there must be at least one NUMA node, so returning NUMA node zero\n",
      "2022-06-16 23:01:26.001001: I tensorflow/core/common_runtime/gpu/gpu_device.cc:1525] Created device /job:localhost/replica:0/task:0/device:GPU:0 with 6094 MB memory:  -> device: 0, name: NVIDIA GeForce RTX 3070 Ti, pci bus id: 0000:09:00.0, compute capability: 8.6\n"
     ]
    }
   ],
   "source": [
    "model = ResNet34(latent=1024, n_classes=num_classes, activation='softmax')\n",
    "model.build(input_shape=(1, *X_train[0].shape))\n",
    "model.summary(X_train[0].shape)\n"
   ]
  },
  {
   "cell_type": "code",
   "execution_count": 10,
   "metadata": {},
   "outputs": [
    {
     "name": "stdout",
     "output_type": "stream",
     "text": [
      "Epoch 1/20\n"
     ]
    },
    {
     "name": "stderr",
     "output_type": "stream",
     "text": [
      "2022-06-16 23:01:35.952129: I tensorflow/stream_executor/cuda/cuda_dnn.cc:368] Loaded cuDNN version 8400\n",
      "2022-06-16 23:01:36.910020: I tensorflow/stream_executor/cuda/cuda_blas.cc:1786] TensorFloat-32 will be used for the matrix multiplication. This will only be logged once.\n"
     ]
    },
    {
     "name": "stdout",
     "output_type": "stream",
     "text": [
      "188/188 [==============================] - 9s 29ms/step - loss: 2.1272 - accuracy: 0.5287 - val_loss: 2.3135 - val_accuracy: 0.0914\n",
      "Epoch 2/20\n",
      "188/188 [==============================] - 5s 25ms/step - loss: 1.9003 - accuracy: 0.5521 - val_loss: 1.9186 - val_accuracy: 0.4557\n",
      "Epoch 3/20\n",
      "188/188 [==============================] - 5s 25ms/step - loss: 1.7054 - accuracy: 0.5605 - val_loss: 1.9377 - val_accuracy: 0.3653\n",
      "Epoch 4/20\n",
      "188/188 [==============================] - 5s 25ms/step - loss: 1.5429 - accuracy: 0.5609 - val_loss: 1.4895 - val_accuracy: 0.5657\n",
      "Epoch 5/20\n",
      "188/188 [==============================] - 5s 25ms/step - loss: 1.3740 - accuracy: 0.5734 - val_loss: 1.3280 - val_accuracy: 0.5798\n",
      "Epoch 6/20\n",
      "188/188 [==============================] - 5s 25ms/step - loss: 1.3113 - accuracy: 0.5485 - val_loss: 1.3365 - val_accuracy: 0.5197\n",
      "Epoch 7/20\n",
      "188/188 [==============================] - 5s 25ms/step - loss: 1.1971 - accuracy: 0.5683 - val_loss: 1.2259 - val_accuracy: 0.5612\n",
      "Epoch 8/20\n",
      "188/188 [==============================] - 5s 25ms/step - loss: 1.1078 - accuracy: 0.5731 - val_loss: 1.0427 - val_accuracy: 0.5945\n",
      "Epoch 9/20\n",
      "188/188 [==============================] - 5s 25ms/step - loss: 1.0095 - accuracy: 0.5896 - val_loss: 1.0222 - val_accuracy: 0.5895\n",
      "Epoch 10/20\n",
      "188/188 [==============================] - 5s 25ms/step - loss: 1.0362 - accuracy: 0.5792 - val_loss: 1.0881 - val_accuracy: 0.5679\n",
      "Epoch 11/20\n",
      "188/188 [==============================] - 5s 25ms/step - loss: 0.9724 - accuracy: 0.5790 - val_loss: 1.0905 - val_accuracy: 0.5401\n",
      "Epoch 12/20\n",
      "188/188 [==============================] - 5s 25ms/step - loss: 0.8960 - accuracy: 0.5902 - val_loss: 0.9047 - val_accuracy: 0.5888\n",
      "Epoch 13/20\n",
      "188/188 [==============================] - 5s 25ms/step - loss: 0.9006 - accuracy: 0.5824 - val_loss: 1.2406 - val_accuracy: 0.5230\n",
      "Epoch 14/20\n",
      "188/188 [==============================] - 5s 25ms/step - loss: 0.8900 - accuracy: 0.5819 - val_loss: 0.8561 - val_accuracy: 0.5907\n",
      "Epoch 15/20\n",
      "188/188 [==============================] - 5s 25ms/step - loss: 0.8484 - accuracy: 0.5889 - val_loss: 0.8152 - val_accuracy: 0.5961\n",
      "Epoch 16/20\n",
      "188/188 [==============================] - 5s 25ms/step - loss: 0.8151 - accuracy: 0.5919 - val_loss: 0.8997 - val_accuracy: 0.5799\n",
      "Epoch 17/20\n",
      "188/188 [==============================] - 5s 25ms/step - loss: 0.8199 - accuracy: 0.5870 - val_loss: 0.7980 - val_accuracy: 0.5904\n",
      "Epoch 18/20\n",
      "188/188 [==============================] - 5s 25ms/step - loss: 0.7862 - accuracy: 0.5946 - val_loss: 0.7753 - val_accuracy: 0.5997\n",
      "Epoch 19/20\n",
      "188/188 [==============================] - 5s 25ms/step - loss: 0.7750 - accuracy: 0.5913 - val_loss: 0.7730 - val_accuracy: 0.5962\n",
      "Epoch 20/20\n",
      " 91/188 [=============>................] - ETA: 2s - loss: 0.7732 - accuracy: 0.5917"
     ]
    }
   ],
   "source": [
    "model.compile(loss='categorical_crossentropy', optimizer='adam', metrics=['accuracy'])\n",
    "model.fit(X_train, Y_train, batch_size=256, epochs=20, verbose=1, validation_split=0.2)"
   ]
  },
  {
   "cell_type": "code",
   "execution_count": null,
   "metadata": {},
   "outputs": [],
   "source": [
    "model.evaluate(X_test, Y_test, verbose=1)"
   ]
  },
  {
   "cell_type": "code",
   "execution_count": null,
   "metadata": {},
   "outputs": [],
   "source": []
  }
 ],
 "metadata": {
  "interpreter": {
   "hash": "6b5e598761a2ac5bb93299115b047ed6d25e008cb3e4097da7606351e4132c77"
  },
  "kernelspec": {
   "display_name": "Python 3.7.13 ('tf37')",
   "language": "python",
   "name": "python3"
  },
  "language_info": {
   "codemirror_mode": {
    "name": "ipython",
    "version": 3
   },
   "file_extension": ".py",
   "mimetype": "text/x-python",
   "name": "python",
   "nbconvert_exporter": "python",
   "pygments_lexer": "ipython3",
   "version": "3.7.13"
  },
  "orig_nbformat": 4
 },
 "nbformat": 4,
 "nbformat_minor": 2
}
